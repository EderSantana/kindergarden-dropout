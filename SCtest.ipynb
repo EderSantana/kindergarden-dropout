{
 "metadata": {
  "name": "",
  "signature": "sha256:3b4ede8c24b89aaba49763871aaddc4abcb79c8ddfd9b91e94373b56e5a4377d"
 },
 "nbformat": 3,
 "nbformat_minor": 0,
 "worksheets": [
  {
   "cells": [
    {
     "cell_type": "code",
     "collapsed": false,
     "input": [
      "run experiment.py"
     ],
     "language": "python",
     "metadata": {},
     "outputs": []
    },
    {
     "cell_type": "code",
     "collapsed": false,
     "input": [
      "%matplotlib inline\n",
      "from pylab import *\n",
      "from display_data import displayData\n",
      "I = displayData(model.get_param_values()[0], 'test1.png')\n",
      "imshow(I)"
     ],
     "language": "python",
     "metadata": {},
     "outputs": []
    },
    {
     "cell_type": "code",
     "collapsed": false,
     "input": [
      "I"
     ],
     "language": "python",
     "metadata": {},
     "outputs": []
    },
    {
     "cell_type": "code",
     "collapsed": false,
     "input": [],
     "language": "python",
     "metadata": {},
     "outputs": []
    }
   ],
   "metadata": {}
  }
 ]
}