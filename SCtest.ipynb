{
 "metadata": {
  "name": "",
  "signature": "sha256:a7e165e60af8c2ff643c80bfe30f96e8b27c51ec61bd7ca401427dafba67365d"
 },
 "nbformat": 3,
 "nbformat_minor": 0,
 "worksheets": [
  {
   "cells": [
    {
     "cell_type": "code",
     "collapsed": false,
     "input": [
      "run experiment.py"
     ],
     "language": "python",
     "metadata": {},
     "outputs": []
    },
    {
     "cell_type": "code",
     "collapsed": false,
     "input": [
      "%matplotlib inline\n",
      "from pylab import *\n",
      "from display_data import displayData\n",
      "I = displayData(model.get_param_values()[0], 'test1.png')\n",
      "imshow(I)"
     ],
     "language": "python",
     "metadata": {},
     "outputs": []
    }
   ],
   "metadata": {}
  }
 ]
}