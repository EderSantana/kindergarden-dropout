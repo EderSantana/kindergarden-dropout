{
 "metadata": {
  "name": "",
  "signature": "sha256:363c04519d916af4a8aaa33b06ff40f1cf570f6e354b377055e17ccc264f4a9d"
 },
 "nbformat": 3,
 "nbformat_minor": 0,
 "worksheets": [
  {
   "cells": [
    {
     "cell_type": "code",
     "collapsed": false,
     "input": [
      "import cPickle\n",
      "import numpy as np\n",
      "import scipy"
     ],
     "language": "python",
     "metadata": {},
     "outputs": []
    },
    {
     "cell_type": "code",
     "collapsed": false,
     "input": [
      "SIZE = 108 - 21 + 1\n",
      "def padzeros(lst, front=True, return_mask=False):\n",
      "    # TODO add docs for ``front``\n",
      "    \"\"\"Given a list of arrays, pad every array with up front  zeros until they\n",
      "    reach unit length.\n",
      "    Each element of `lst` can have a different first dimension, but has to be\n",
      "    equal on the other dimensions.\n",
      "    \"\"\"\n",
      "    n_items = len(lst)\n",
      "    # Get the longest item.\n",
      "    maxlength = max(len(i) for i in lst)\n",
      "    restshape = list(lst[0].shape)[1:]\n",
      "    item_shape = [maxlength] + restshape\n",
      "    total_shape = [n_items] + item_shape\n",
      "\n",
      "    data = scipy.zeros(total_shape, dtype=lst[0].dtype)\n",
      "    if return_mask:\n",
      "        mask = scipy.zeros(total_shape, dtype=lst[0].dtype)\n",
      "    for i in range(n_items):\n",
      "        # Iterate over indices because we work in place of the list.\n",
      "        thislength = lst[i].shape[0]\n",
      "        if front:\n",
      "            data[i][-thislength:] = lst[i]\n",
      "            if return_mask:\n",
      "                mask[i][-thislength:] = 1\n",
      "        else:\n",
      "            data[i][:thislength] = lst[i]\n",
      "            if return_mask:\n",
      "                mask[i][:thislength] = 1\n",
      "\n",
      "    if return_mask:\n",
      "        return data, scipy.asarray(mask)\n",
      "    return data\n",
      "\n",
      "def interleave(lst):\n",
      "    \"\"\"Given a list of arrays, interleave the arrays in a way that the\n",
      "    first dimension represents the first dimension of every array.\n",
      "    This is useful for time series, where multiple time series should be\n",
      "    processed in a single swipe.\"\"\"\n",
      "    arr = scipy.asarray(lst)\n",
      "    return scipy.swapaxes(arr, 0, 1)\n",
      "\n",
      "def split(X, maxlength):\n",
      "    \"\"\"Return a list of sequences where each sequence has a length of at most\n",
      "    `maxlength`.\n",
      "    Given a list of sequences `X`, the sequences are split accordingly.\"\"\"\n",
      "    new_X = []\n",
      "    for seq in X:\n",
      "        n_new_seqs, rest = divmod(seq.shape[0], maxlength)\n",
      "        if rest:\n",
      "            n_new_seqs += 1\n",
      "        for i in range(n_new_seqs):\n",
      "            new_X.append(seq[i * maxlength:(i + 1) * maxlength])\n",
      "    return new_X\n",
      "\n",
      "def masked(idxs):\n",
      "    x = np.zeros(SIZE)\n",
      "    x[(np.array(idxs) - 21).tolist()] = 1\n",
      "    return x\n",
      "\n",
      "\n",
      "def rolls_from_sequences(seqs):\n",
      "    x = []\n",
      "    for seq in seqs:\n",
      "        x.append([])\n",
      "        for item in seq:\n",
      "            x[-1].append(masked(item))\n",
      "        x[-1] = np.array(x[-1])\n",
      "    return x\n",
      "\n",
      "\n",
      "def load_data(handle):\n",
      "    with open('%s.pickle' % handle) as fp:\n",
      "        data = cPickle.load(fp)\n",
      "\n",
      "    train, valid, test = data['train'], data['valid'], data['test']\n",
      "\n",
      "    x = rolls_from_sequences(data['train'])\n",
      "    vx = rolls_from_sequences(data['valid'])\n",
      "    tx = rolls_from_sequences(data['test'])\n",
      "\n",
      "    print 'size of x', sum([i.size for i in x])\n",
      "    print 'size of vx', sum([i.size for i in vx])\n",
      "\n",
      "    x = split(x, 100)\n",
      "    vx = split(vx, 100)\n",
      "\n",
      "    # Standardize.\n",
      "    #scaler = StandardScaler()\n",
      "    #x, (vx, tx) = static_transform([scaler], x, [vx, tx])\n",
      "\n",
      "    X = interleave(padzeros(x, False))\n",
      "    VX = interleave(padzeros(vx, False))\n",
      "\n",
      "    print 'size of X', X.size\n",
      "    print 'size of VX', VX.size\n",
      "\n",
      "    Z, VZ, tz = X[1:], VX[1:], [i[1:] for i in tx]\n",
      "    X, VX, tx = X[:-1], VX[:-1], [i[:-1] for i in tx]\n",
      "\n",
      "    X, VX, Z, VZ = [i.astype('float32') for i in (X, VX, Z, VZ)]\n",
      "    tx = [i.astype('float32') for i in tx]\n",
      "    tz = [i.astype('float32') for i in tz]\n",
      "\n",
      "    print 'training shape', X.shape\n",
      "    print 'validation shape', VX.shape\n",
      "\n",
      "    return X, Z, VX, VZ, tx, tz\n",
      "\n",
      "X, Z, VX, VZ, tx, tz = load_data('/Users/eder/Copy/python/data/midi/JSBChorales')\n",
      "X = X.transpose(1,0,2)\n",
      "Z = Z.transpose(1,0,2)\n",
      "VX = VX.transpose(1,0,2)\n",
      "VZ = VZ.transpose(1,0,2)"
     ],
     "language": "python",
     "metadata": {},
     "outputs": []
    },
    {
     "cell_type": "code",
     "collapsed": false,
     "input": [
      "with open('%s.pickle' % '/Users/eder/Copy/python/data/midi/JSBChorales') as fp:\n",
      "        data = cPickle.load(fp)\n",
      "\n",
      "train, valid, test = data['train'], data['valid'], data['test']\n",
      "\n",
      "x = rolls_from_sequences(data['train'])\n",
      "vx = rolls_from_sequences(data['valid'])\n",
      "tx = rolls_from_sequences(data['test'])\n",
      "\n",
      "print 'size of x', sum([i.size for i in x])\n",
      "print 'size of vx', sum([i.size for i in vx])"
     ],
     "language": "python",
     "metadata": {},
     "outputs": []
    },
    {
     "cell_type": "heading",
     "level": 1,
     "metadata": {},
     "source": [
      "MID dataset test"
     ]
    },
    {
     "cell_type": "code",
     "collapsed": false,
     "input": [
      "from mid import MID\n",
      "from pylearn2.sandbox.rnn.space import SequenceSpace\n",
      "from pylearn2.space import VectorSpace"
     ],
     "language": "python",
     "metadata": {},
     "outputs": []
    },
    {
     "cell_type": "code",
     "collapsed": false,
     "input": [
      "dataset = MID('train', '/Users/eder/Copy/python/data/midi/JSBChorales')\n",
      "dataset.X_space"
     ],
     "language": "python",
     "metadata": {},
     "outputs": []
    },
    {
     "cell_type": "code",
     "collapsed": false,
     "input": [
      "for d in dataset.iterator(mode='sequential', batch_size=27, num_batches=243/27, \n",
      "                          data_specs=(dataset.X_space.components,('data','mask'))):\n",
      "    print d.shape"
     ],
     "language": "python",
     "metadata": {},
     "outputs": []
    },
    {
     "cell_type": "code",
     "collapsed": false,
     "input": [
      "dataset.X_space.components"
     ],
     "language": "python",
     "metadata": {},
     "outputs": []
    },
    {
     "cell_type": "code",
     "collapsed": false,
     "input": [
      "from pylearn2.space import VectorSpace"
     ],
     "language": "python",
     "metadata": {},
     "outputs": []
    }
   ],
   "metadata": {}
  }
 ]
}