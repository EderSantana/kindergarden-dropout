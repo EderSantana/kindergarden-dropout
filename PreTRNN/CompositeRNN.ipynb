{
 "metadata": {
  "name": "",
  "signature": "sha256:070d5369b9e92ea89a347d13298b510906ddefb4534b9efaf2506342c9fbb3e7"
 },
 "nbformat": 3,
 "nbformat_minor": 0,
 "worksheets": [
  {
   "cells": [
    {
     "cell_type": "code",
     "collapsed": false,
     "input": [
      "from pylearn2.sandbox.rnn.models.rnn import *\n",
      "from librnn.pylearn2.datasets.music import MusicSequence"
     ],
     "language": "python",
     "metadata": {},
     "outputs": [],
     "prompt_number": 1
    },
    {
     "cell_type": "code",
     "collapsed": false,
     "input": [
      "!export $PYLEARN2_DATA_PATH='/home/eders/Copy/python/data' \n",
      "dataset = MusicSequence('jsb')\n",
      "testset = MusicSequence('jsb', which_set='test')"
     ],
     "language": "python",
     "metadata": {},
     "outputs": [
      {
       "output_type": "stream",
       "stream": "stdout",
       "text": [
        "/bin/sh: 1: export: /home/eders/Copy/python/data: bad variable name\r\n"
       ]
      }
     ],
     "prompt_number": 2
    },
    {
     "cell_type": "code",
     "collapsed": false,
     "input": [
      "from pylearn2.models.mlp import *\n",
      "from pylearn2.sandbox.rnn.space import SequenceDataSpace\n",
      "from pylearn2.space import VectorSpace\n",
      "input_dim=96\n",
      "model = RNN(\n",
      "    input_space=SequenceDataSpace(\n",
      "      space=VectorSpace(\n",
      "        dim=input_dim\n",
      "      )\n",
      "    ),\n",
      "    layers= [\n",
      "      GRU(\n",
      "        layer_name='h_1',\n",
      "        dim=48,\n",
      "        irange=0.1,\n",
      "        weight_noise=1\n",
      "      ),\n",
      "      CompositeLayer(\n",
      "        layer_name='comp',\n",
      "        layers=[\n",
      "          Linear(\n",
      "            layer_name='y1',\n",
      "            dim=input_dim,\n",
      "            irange=0.1\n",
      "          ),\n",
      "          Linear(\n",
      "            layer_name='y1',\n",
      "            dim=input_dim,\n",
      "            irange=0.1\n",
      "          ),\n",
      "        ]\n",
      "    )\n",
      "    ]\n",
      ")"
     ],
     "language": "python",
     "metadata": {},
     "outputs": [],
     "prompt_number": 9
    },
    {
     "cell_type": "code",
     "collapsed": false,
     "input": [
      "X = model.input_space.make_theano_batch()\n",
      "Y = model.fprop(X)\n",
      "print X\n",
      "print Y"
     ],
     "language": "python",
     "metadata": {},
     "outputs": [
      {
       "output_type": "stream",
       "stream": "stdout",
       "text": [
        "<TensorType(float64, 3D)>\n",
        "(Reshape{3}.0, Reshape{3}.0)\n"
       ]
      }
     ],
     "prompt_number": 10
    },
    {
     "cell_type": "code",
     "collapsed": false,
     "input": [
      "import theano\n",
      "fy = theano.function([X], Y)"
     ],
     "language": "python",
     "metadata": {},
     "outputs": [],
     "prompt_number": 11
    },
    {
     "cell_type": "code",
     "collapsed": false,
     "input": [
      "import numpy as np\n",
      "x = np.random.normal(0,1,(100,1,96))\n",
      "y = fy(x)"
     ],
     "language": "python",
     "metadata": {},
     "outputs": [],
     "prompt_number": 12
    },
    {
     "cell_type": "code",
     "collapsed": false,
     "input": [
      "print y[0].shape\n",
      "print y[1].shape"
     ],
     "language": "python",
     "metadata": {},
     "outputs": [
      {
       "output_type": "stream",
       "stream": "stdout",
       "text": [
        "(100, 1, 96)\n",
        "(100, 1, 96)\n"
       ]
      }
     ],
     "prompt_number": 13
    },
    {
     "cell_type": "code",
     "collapsed": false,
     "input": [
      "y"
     ],
     "language": "python",
     "metadata": {},
     "outputs": [
      {
       "metadata": {},
       "output_type": "pyout",
       "prompt_number": 14,
       "text": [
        "[array([[[-0.15201113, -0.0157631 ,  0.22228196, ...,  0.12983136,\n",
        "           0.2222202 ,  0.05906553]],\n",
        " \n",
        "        [[ 0.00516387,  0.11326955, -0.03720764, ...,  0.37823426,\n",
        "          -0.11285937,  0.10099931]],\n",
        " \n",
        "        [[ 0.27068657,  0.07016972,  0.06026686, ...,  0.4153196 ,\n",
        "          -0.16458814,  0.17719878]],\n",
        " \n",
        "        ..., \n",
        "        [[-0.12958628, -0.11383379,  0.3514788 , ..., -0.21723426,\n",
        "           0.27314417, -0.09546039]],\n",
        " \n",
        "        [[ 0.3491489 ,  0.03299455,  0.0500899 , ..., -0.2055891 ,\n",
        "          -0.21999117, -0.29504592]],\n",
        " \n",
        "        [[ 0.23996668,  0.09593623,  0.07461963, ..., -0.10210548,\n",
        "          -0.05580304,  0.07031608]]]),\n",
        " array([[[-0.00107294,  0.12255906, -0.20888688, ..., -0.02626412,\n",
        "           0.0162447 , -0.16240319]],\n",
        " \n",
        "        [[ 0.01438983,  0.06109638,  0.05006939, ..., -0.06176206,\n",
        "           0.17274757, -0.20334945]],\n",
        " \n",
        "        [[ 0.21089543,  0.24128451, -0.10958972, ..., -0.05516336,\n",
        "           0.24768474, -0.22600905]],\n",
        " \n",
        "        ..., \n",
        "        [[ 0.08849473, -0.13173578, -0.08885208, ...,  0.1336145 ,\n",
        "          -0.17992819,  0.18571529]],\n",
        " \n",
        "        [[ 0.22688313, -0.05984479, -0.31638322, ..., -0.13990211,\n",
        "          -0.06200777,  0.29229198]],\n",
        " \n",
        "        [[ 0.27098825,  0.03684178,  0.02502807, ...,  0.0026248 ,\n",
        "          -0.20689513,  0.22405564]]])]"
       ]
      }
     ],
     "prompt_number": 14
    },
    {
     "cell_type": "code",
     "collapsed": false,
     "input": [],
     "language": "python",
     "metadata": {},
     "outputs": []
    }
   ],
   "metadata": {}
  }
 ]
}