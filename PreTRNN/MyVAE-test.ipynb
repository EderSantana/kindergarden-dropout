{
 "metadata": {
  "name": "",
  "signature": "sha256:13286e045ee495cfdf47e0192a420e7af10889293d11620191db3af78bc10165"
 },
 "nbformat": 3,
 "nbformat_minor": 0,
 "worksheets": [
  {
   "cells": [
    {
     "cell_type": "code",
     "collapsed": false,
     "input": [
      "from pylearn2.models.mlp import MLP, Linear, Tanh, CompositeLayer, Sigmoid"
     ],
     "language": "python",
     "metadata": {},
     "outputs": [
      {
       "output_type": "stream",
       "stream": "stderr",
       "text": [
        "Using gpu device 0: GeForce GTX 680\n"
       ]
      }
     ],
     "prompt_number": 1
    },
    {
     "cell_type": "code",
     "collapsed": false,
     "input": [
      "dimZ = 20\n",
      "dimX = 784\n",
      "bsize = 200\n",
      "IH_model = MLP(batch_size=bsize, nvis=784, layers=[\n",
      "    Tanh(layer_name='IH', dim=400, irange=.01),\n",
      "    CompositeLayer(layer_name='mz and vz',\n",
      "        layers=[\n",
      "            Linear(layer_name='mz', dim=20, irange=.01),\n",
      "            Linear(layer_name='vz', dim=20, irange=.01)\n",
      "        ]\n",
      "        )\n",
      "    ]\n",
      ")\n",
      "\n",
      "HI_model = MLP(batch_size=bsize, nvis=dimZ, layers=[\n",
      "    Tanh(layer_name='H_decoder', dim=400, irange=.01),\n",
      "    Sigmoid(layer_name='x_hat', dim=dimX, irange=.01)\n",
      "])"
     ],
     "language": "python",
     "metadata": {},
     "outputs": [],
     "prompt_number": 2
    },
    {
     "cell_type": "code",
     "collapsed": false,
     "input": [
      "IH_model.get_input_space()"
     ],
     "language": "python",
     "metadata": {},
     "outputs": [
      {
       "metadata": {},
       "output_type": "pyout",
       "prompt_number": 3,
       "text": [
        "VectorSpace(dim=784, dtype=float32)"
       ]
      }
     ],
     "prompt_number": 3
    },
    {
     "cell_type": "code",
     "collapsed": false,
     "input": [
      "IH_model.get_output_space()"
     ],
     "language": "python",
     "metadata": {},
     "outputs": [
      {
       "metadata": {},
       "output_type": "pyout",
       "prompt_number": 4,
       "text": [
        "CompositeSpace(VectorSpace(dim=20, dtype=float32), VectorSpace(dim=20, dtype=float32))"
       ]
      }
     ],
     "prompt_number": 4
    },
    {
     "cell_type": "code",
     "collapsed": false,
     "input": [
      "X = IH_model.input_space.make_theano_batch()\n",
      "Y1, Y2 = IH_model.fprop(X)"
     ],
     "language": "python",
     "metadata": {},
     "outputs": [],
     "prompt_number": 5
    },
    {
     "cell_type": "code",
     "collapsed": false,
     "input": [
      "print Y1\n",
      "print Y2"
     ],
     "language": "python",
     "metadata": {},
     "outputs": [
      {
       "output_type": "stream",
       "stream": "stdout",
       "text": [
        "mz_z\n",
        "vz_z\n"
       ]
      }
     ],
     "prompt_number": 6
    },
    {
     "cell_type": "code",
     "collapsed": false,
     "input": [
      "IH_model.batch_size"
     ],
     "language": "python",
     "metadata": {},
     "outputs": [
      {
       "metadata": {},
       "output_type": "pyout",
       "prompt_number": 7,
       "text": [
        "200"
       ]
      }
     ],
     "prompt_number": 7
    },
    {
     "cell_type": "code",
     "collapsed": false,
     "input": [
      "from vpcn import VAE2\n",
      "import numpy as np\n",
      "import argparse\n",
      "import time\n",
      "import gzip, cPickle\n",
      "\n",
      "f = gzip.open('../Variational-Autoencoder/mnist.pkl.gz', 'rb')\n",
      "(x_train, t_train), (x_valid, t_valid), (x_test, t_test)  = cPickle.load(f)\n",
      "f.close()\n",
      "\n",
      "data = x_train.astype('float32')\n",
      "\n",
      "dimZ = 20\n",
      "\n",
      "batch_size = 200\n",
      "L = 1\n",
      "learning_rate = .01\n",
      "\n",
      "[N,dimX] = data.shape\n",
      "encoder = VAE2(IH_model,HI_model,L,learning_rate)\n",
      "encoder.initParams()\n",
      "encoder.createGradientFunctions()\n",
      "\n",
      "print \"Initializing weights and biases\"\n",
      "lowerbound = np.array([])\n",
      "testlowerbound = np.array([])\n",
      "\n",
      "begin = time.time()\n",
      "for j in xrange(150):\n",
      "    encoder.lowerbound = 0\n",
      "    print 'Iteration:', j\n",
      "    encoder.iterate(data)\n",
      "    end = time.time()\n",
      "    print(\"Iteration %d, lower bound = %.2f,\"\n",
      "          \" time = %.2fs\"\n",
      "          % (j, encoder.lowerbound*batch_size/N, end - begin))\n",
      "    begin = end\n",
      "\n",
      "    if j % 5 == 0:\n",
      "        print \"Calculating test lowerbound\"\n",
      "        testlowerbound = np.append(testlowerbound,encoder.getLowerBound(x_test.astype('float32')))"
     ],
     "language": "python",
     "metadata": {},
     "outputs": [
      {
       "ename": "ImportError",
       "evalue": "cannot import name VAE2",
       "output_type": "pyerr",
       "traceback": [
        "\u001b[1;31m---------------------------------------------------------------------------\u001b[0m\n\u001b[1;31mImportError\u001b[0m                               Traceback (most recent call last)",
        "\u001b[1;32m<ipython-input-8-d18033893c51>\u001b[0m in \u001b[0;36m<module>\u001b[1;34m()\u001b[0m\n\u001b[1;32m----> 1\u001b[1;33m \u001b[1;32mfrom\u001b[0m \u001b[0mvpcn\u001b[0m \u001b[1;32mimport\u001b[0m \u001b[0mVAE2\u001b[0m\u001b[1;33m\u001b[0m\u001b[0m\n\u001b[0m\u001b[0;32m      2\u001b[0m \u001b[1;32mimport\u001b[0m \u001b[0mnumpy\u001b[0m \u001b[1;32mas\u001b[0m \u001b[0mnp\u001b[0m\u001b[1;33m\u001b[0m\u001b[0m\n\u001b[0;32m      3\u001b[0m \u001b[1;32mimport\u001b[0m \u001b[0margparse\u001b[0m\u001b[1;33m\u001b[0m\u001b[0m\n\u001b[0;32m      4\u001b[0m \u001b[1;32mimport\u001b[0m \u001b[0mtime\u001b[0m\u001b[1;33m\u001b[0m\u001b[0m\n\u001b[0;32m      5\u001b[0m \u001b[1;32mimport\u001b[0m \u001b[0mgzip\u001b[0m\u001b[1;33m,\u001b[0m \u001b[0mcPickle\u001b[0m\u001b[1;33m\u001b[0m\u001b[0m\n",
        "\u001b[1;31mImportError\u001b[0m: cannot import name VAE2"
       ]
      }
     ],
     "prompt_number": 8
    },
    {
     "cell_type": "code",
     "collapsed": false,
     "input": [
      "%matplotlib inline\n",
      "from pylab import imshow, rcParams\n",
      "import display_data \n",
      "rcParams['figure.figsize'] = 8, 8\n",
      "W = IH_model.get_param_values()[0]\n",
      "I = display_data.displayData(W.T, 'W.png')\n",
      "imshow(I,cmap='gray')"
     ],
     "language": "python",
     "metadata": {},
     "outputs": []
    },
    {
     "cell_type": "code",
     "collapsed": false,
     "input": [
      "from vpcn import VAE2\n",
      "import numpy as np\n",
      "import argparse\n",
      "import time\n",
      "import gzip, cPickle\n",
      "\n",
      "f = gzip.open('../Variational-Autoencoder/mnist.pkl.gz', 'rb')\n",
      "(x_train, t_train), (x_valid, t_valid), (x_test, t_test)  = cPickle.load(f)\n",
      "f.close()\n",
      "\n",
      "data = x_train.astype('float32')\n",
      "\n",
      "dimZ = 20\n",
      "\n",
      "batch_size = 100\n",
      "L = 1\n",
      "learning_rate = 0.00001\n",
      "\n",
      "[N,dimX] = data.shape\n",
      "encoder = VAE2(IH_model,HI_model,L,learning_rate)\n",
      "encoder.initParams()\n",
      "encoder.createGradientFunctions()"
     ],
     "language": "python",
     "metadata": {},
     "outputs": []
    },
    {
     "cell_type": "code",
     "collapsed": false,
     "input": [],
     "language": "python",
     "metadata": {},
     "outputs": []
    }
   ],
   "metadata": {}
  }
 ]
}