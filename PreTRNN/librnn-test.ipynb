{
 "metadata": {
  "name": "",
  "signature": "sha256:78dcb3efcb156047134793bebeb59631d9ba3f3e8f7351219f0a937deb247e93"
 },
 "nbformat": 3,
 "nbformat_minor": 0,
 "worksheets": [
  {
   "cells": [
    {
     "cell_type": "code",
     "collapsed": false,
     "input": [
      "#!export PYTHONPATH=./:$PYTHONPATH\n",
      "import librnn\n",
      "from librnn.pylearn2.datasets.music import MusicSequence"
     ],
     "language": "python",
     "metadata": {},
     "outputs": [
      {
       "output_type": "stream",
       "stream": "stderr",
       "text": [
        "Using gpu device 0: GeForce GTX 680\n"
       ]
      }
     ],
     "prompt_number": 1
    },
    {
     "cell_type": "code",
     "collapsed": false,
     "input": [
      "dataset = MusicSequence('jsb')\n",
      "testset = MusicSequence('jsb', which_set='test')"
     ],
     "language": "python",
     "metadata": {},
     "outputs": [],
     "prompt_number": 2
    },
    {
     "cell_type": "code",
     "collapsed": false,
     "input": [
      "for d,b in dataset.iterator(1, dataset.get_num_examples(), mode='sequential',\n",
      "                 data_specs=dataset.get_data_specs()):\n",
      "    print len(d)\n",
      "    print d.shape\n",
      "    print b.shape"
     ],
     "language": "python",
     "metadata": {},
     "outputs": [
      {
       "output_type": "stream",
       "stream": "stdout",
       "text": [
        "128\n",
        "(128, 1, 96)\n",
        "(128, 1, 96)\n",
        "64\n",
        "(64, 1, 96)\n",
        "(64, 1, 96)\n",
        "48\n",
        "(48, 1, 96)\n",
        "(48, 1, 96)\n",
        "64\n",
        "(64, 1, 96)\n",
        "(64, 1, 96)\n",
        "113\n",
        "(113, 1, 96)\n",
        "(113, 1, 96)\n",
        "32\n",
        "(32, 1, 96)\n",
        "(32, 1, 96)\n",
        "56\n",
        "(56, 1, 96)\n",
        "(56, 1, 96)\n",
        "48\n",
        "(48, 1, 96)\n",
        "(48, 1, 96)\n",
        "63\n",
        "(63, 1, 96)\n",
        "(63, 1, 96)\n",
        "32\n",
        "(32, 1, 96)\n",
        "(32, 1, 96)\n",
        "107\n",
        "(107, 1, 96)\n",
        "(107, 1, 96)\n",
        "47\n",
        "(47, 1, 96)\n",
        "(47, 1, 96)\n",
        "48\n",
        "(48, 1, 96)\n",
        "(48, 1, 96)\n",
        "47\n",
        "(47, 1, 96)\n",
        "(47, 1, 96)\n",
        "60\n",
        "(60, 1, 96)\n",
        "(60, 1, 96)\n",
        "47\n",
        "(47, 1, 96)\n",
        "(47, 1, 96)\n",
        "64\n",
        "(64, 1, 96)\n",
        "(64, 1, 96)\n",
        "52\n",
        "(52, 1, 96)\n",
        "(52, 1, 96)\n",
        "40\n",
        "(40, 1, 96)\n",
        "(40, 1, 96)\n",
        "51\n",
        "(51, 1, 96)\n",
        "(51, 1, 96)\n",
        "32\n",
        "(32, 1, 96)\n",
        "(32, 1, 96)\n",
        "60\n",
        "(60, 1, 96)\n",
        "(60, 1, 96)\n",
        "40\n",
        "(40, 1, 96)\n",
        "(40, 1, 96)\n",
        "44\n",
        "(44, 1, 96)\n",
        "(44, 1, 96)\n",
        "68\n",
        "(68, 1, 96)\n",
        "(68, 1, 96)\n",
        "38\n",
        "(38, 1, 96)\n",
        "(38, 1, 96)\n",
        "56\n",
        "(56, 1, 96)\n",
        "(56, 1, 96)\n",
        "79\n",
        "(79, 1, 96)\n",
        "(79, 1, 96)\n",
        "85\n",
        "(85, 1, 96)\n",
        "(85, 1, 96)\n",
        "56\n",
        "(56, 1, 96)\n",
        "(56, 1, 96)\n",
        "60\n",
        "(60, 1, 96)\n",
        "(60, 1, 96)\n",
        "104\n",
        "(104, 1, 96)\n",
        "(104, 1, 96)\n",
        "67\n",
        "(67, 1, 96)\n",
        "(67, 1, 96)\n",
        "64\n",
        "(64, 1, 96)\n",
        "(64, 1, 96)\n",
        "47\n",
        "(47, 1, 96)\n",
        "(47, 1, 96)\n",
        "56\n",
        "(56, 1, 96)\n",
        "(56, 1, 96)\n",
        "56\n",
        "(56, 1, 96)\n",
        "(56, 1, 96)\n",
        "51\n",
        "(51, 1, 96)\n",
        "(51, 1, 96)\n",
        "47\n",
        "(47, 1, 96)\n",
        "(47, 1, 96)\n",
        "32\n",
        "(32, 1, 96)\n",
        "(32, 1, 96)\n",
        "92\n",
        "(92, 1, 96)\n",
        "(92, 1, 96)\n",
        "40\n",
        "(40, 1, 96)\n",
        "(40, 1, 96)\n",
        "64\n",
        "(64, 1, 96)\n",
        "(64, 1, 96)\n",
        "48\n",
        "(48, 1, 96)\n",
        "(48, 1, 96)\n",
        "72\n",
        "(72, 1, 96)\n",
        "(72, 1, 96)\n",
        "47\n",
        "(47, 1, 96)\n",
        "(47, 1, 96)\n",
        "32\n",
        "(32, 1, 96)\n",
        "(32, 1, 96)\n",
        "44\n",
        "(44, 1, 96)\n",
        "(44, 1, 96)\n",
        "64\n",
        "(64, 1, 96)\n",
        "(64, 1, 96)\n",
        "51\n",
        "(51, 1, 96)\n",
        "(51, 1, 96)\n",
        "48\n",
        "(48, 1, 96)\n",
        "(48, 1, 96)\n",
        "108\n",
        "(108, 1, 96)\n",
        "(108, 1, 96)\n",
        "48\n",
        "(48, 1, 96)\n",
        "(48, 1, 96)\n",
        "51\n",
        "(51, 1, 96)\n",
        "(51, 1, 96)\n",
        "64\n",
        "(64, 1, 96)\n",
        "(64, 1, 96)\n",
        "40\n",
        "(40, 1, 96)\n",
        "(40, 1, 96)\n",
        "48\n",
        "(48, 1, 96)\n",
        "(48, 1, 96)\n",
        "64\n",
        "(64, 1, 96)\n",
        "(64, 1, 96)\n",
        "76\n",
        "(76, 1, 96)\n",
        "(76, 1, 96)\n",
        "72\n",
        "(72, 1, 96)\n",
        "(72, 1, 96)\n",
        "56\n",
        "(56, 1, 96)\n",
        "(56, 1, 96)\n",
        "40\n",
        "(40, 1, 96)\n",
        "(40, 1, 96)\n",
        "64\n",
        "(64, 1, 96)\n",
        "(64, 1, 96)\n",
        "56\n",
        "(56, 1, 96)\n",
        "(56, 1, 96)\n",
        "43\n",
        "(43, 1, 96)\n",
        "(43, 1, 96)\n",
        "32\n",
        "(32, 1, 96)\n",
        "(32, 1, 96)\n",
        "84\n",
        "(84, 1, 96)\n",
        "(84, 1, 96)\n",
        "71\n",
        "(71, 1, 96)\n",
        "(71, 1, 96)\n",
        "59\n",
        "(59, 1, 96)\n",
        "(59, 1, 96)\n",
        "40\n",
        "(40, 1, 96)\n",
        "(40, 1, 96)\n",
        "48\n",
        "(48, 1, 96)\n",
        "(48, 1, 96)\n",
        "32\n",
        "(32, 1, 96)\n",
        "(32, 1, 96)\n",
        "55\n",
        "(55, 1, 96)\n",
        "(55, 1, 96)\n",
        "51\n",
        "(51, 1, 96)\n",
        "(51, 1, 96)\n",
        "55\n",
        "(55, 1, 96)\n",
        "(55, 1, 96)\n",
        "82\n",
        "(82, 1, 96)\n",
        "(82, 1, 96)\n",
        "56\n",
        "(56, 1, 96)\n",
        "(56, 1, 96)\n",
        "56\n",
        "(56, 1, 96)\n",
        "(56, 1, 96)\n",
        "51\n",
        "(51, 1, 96)\n",
        "(51, 1, 96)\n",
        "40\n",
        "(40, 1, 96)\n",
        "(40, 1, 96)\n",
        "52\n",
        "(52, 1, 96)\n",
        "(52, 1, 96)\n",
        "63\n",
        "(63, 1, 96)\n",
        "(63, 1, 96)\n",
        "60\n",
        "(60, 1, 96)\n",
        "(60, 1, 96)\n",
        "64\n",
        "(64, 1, 96)\n",
        "(64, 1, 96)\n",
        "64\n",
        "(64, 1, 96)\n",
        "(64, 1, 96)\n",
        "47\n",
        "(47, 1, 96)\n",
        "(47, 1, 96)\n",
        "24\n",
        "(24, 1, 96)\n",
        "(24, 1, 96)\n",
        "95\n",
        "(95, 1, 96)\n",
        "(95, 1, 96)\n",
        "40\n",
        "(40, 1, 96)\n",
        "(40, 1, 96)\n",
        "36\n",
        "(36, 1, 96)\n",
        "(36, 1, 96)\n",
        "75\n",
        "(75, 1, 96)\n",
        "(75, 1, 96)\n",
        "64\n",
        "(64, 1, 96)\n",
        "(64, 1, 96)\n",
        "64\n",
        "(64, 1, 96)\n",
        "(64, 1, 96)\n",
        "71\n",
        "(71, 1, 96)\n",
        "(71, 1, 96)\n",
        "40\n",
        "(40, 1, 96)\n",
        "(40, 1, 96)\n",
        "64\n",
        "(64, 1, 96)\n",
        "(64, 1, 96)\n",
        "40\n",
        "(40, 1, 96)\n",
        "(40, 1, 96)\n",
        "36\n",
        "(36, 1, 96)\n",
        "(36, 1, 96)\n",
        "76\n",
        "(76, 1, 96)\n",
        "(76, 1, 96)\n",
        "47\n",
        "(47, 1, 96)\n",
        "(47, 1, 96)\n",
        "84\n",
        "(84, 1, 96)\n",
        "(84, 1, 96)\n",
        "56\n",
        "(56, 1, 96)\n",
        "(56, 1, 96)\n",
        "71\n",
        "(71, 1, 96)\n",
        "(71, 1, 96)\n",
        "47\n",
        "(47, 1, 96)\n",
        "(47, 1, 96)\n",
        "44\n",
        "(44, 1, 96)\n",
        "(44, 1, 96)\n",
        "52\n",
        "(52, 1, 96)\n",
        "(52, 1, 96)\n",
        "48\n",
        "(48, 1, 96)\n",
        "(48, 1, 96)\n",
        "83\n",
        "(83, 1, 96)\n",
        "(83, 1, 96)\n",
        "67\n",
        "(67, 1, 96)\n",
        "(67, 1, 96)\n",
        "48\n",
        "(48, 1, 96)\n",
        "(48, 1, 96)\n",
        "72\n",
        "(72, 1, 96)\n",
        "(72, 1, 96)\n",
        "49\n",
        "(49, 1, 96)\n",
        "(49, 1, 96)\n",
        "95\n",
        "(95, 1, 96)\n",
        "(95, 1, 96)\n",
        "54\n",
        "(54, 1, 96)\n",
        "(54, 1, 96)\n",
        "65\n",
        "(65, 1, 96)\n",
        "(65, 1, 96)\n",
        "97\n",
        "(97, 1, 96)\n",
        "(97, 1, 96)\n",
        "36\n",
        "(36, 1, 96)\n",
        "(36, 1, 96)\n",
        "75\n",
        "(75, 1, 96)\n",
        "(75, 1, 96)\n",
        "64\n",
        "(64, 1, 96)\n",
        "(64, 1, 96)\n",
        "32\n",
        "(32, 1, 96)\n",
        "(32, 1, 96)\n",
        "48\n",
        "(48, 1, 96)\n",
        "(48, 1, 96)\n",
        "76\n",
        "(76, 1, 96)\n",
        "(76, 1, 96)\n",
        "75\n",
        "(75, 1, 96)\n",
        "(75, 1, 96)\n",
        "64\n",
        "(64, 1, 96)\n",
        "(64, 1, 96)\n",
        "127\n",
        "(127, 1, 96)\n",
        "(127, 1, 96)\n",
        "40\n",
        "(40, 1, 96)\n",
        "(40, 1, 96)\n",
        "44\n",
        "(44, 1, 96)\n",
        "(44, 1, 96)\n",
        "60\n",
        "(60, 1, 96)\n",
        "(60, 1, 96)\n",
        "32\n",
        "(32, 1, 96)\n",
        "(32, 1, 96)\n",
        "87\n",
        "(87, 1, 96)\n",
        "(87, 1, 96)\n",
        "60\n",
        "(60, 1, 96)\n",
        "(60, 1, 96)\n",
        "62\n",
        "(62, 1, 96)\n",
        "(62, 1, 96)\n",
        "64\n",
        "(64, 1, 96)\n",
        "(64, 1, 96)\n",
        "67\n",
        "(67, 1, 96)\n",
        "(67, 1, 96)\n",
        "59\n",
        "(59, 1, 96)\n",
        "(59, 1, 96)\n",
        "48\n",
        "(48, 1, 96)\n",
        "(48, 1, 96)\n",
        "47\n",
        "(47, 1, 96)\n",
        "(47, 1, 96)\n",
        "44\n",
        "(44, 1, 96)\n",
        "(44, 1, 96)\n",
        "64\n",
        "(64, 1, 96)\n",
        "(64, 1, 96)\n",
        "44\n",
        "(44, 1, 96)\n",
        "(44, 1, 96)\n",
        "32\n",
        "(32, 1, 96)\n",
        "(32, 1, 96)\n",
        "63\n",
        "(63, 1, 96)\n",
        "(63, 1, 96)\n",
        "63\n",
        "(63, 1, 96)\n",
        "(63, 1, 96)\n",
        "64\n",
        "(64, 1, 96)\n",
        "(64, 1, 96)\n",
        "48\n",
        "(48, 1, 96)\n",
        "(48, 1, 96)\n",
        "62\n",
        "(62, 1, 96)\n",
        "(62, 1, 96)\n",
        "60\n",
        "(60, 1, 96)\n",
        "(60, 1, 96)\n",
        "47\n",
        "(47, 1, 96)\n",
        "(47, 1, 96)\n",
        "44\n",
        "(44, 1, 96)\n",
        "(44, 1, 96)\n",
        "64\n",
        "(64, 1, 96)\n",
        "(64, 1, 96)\n",
        "83\n",
        "(83, 1, 96)\n",
        "(83, 1, 96)\n",
        "119\n",
        "(119, 1, 96)\n",
        "(119, 1, 96)\n",
        "40\n",
        "(40, 1, 96)\n",
        "(40, 1, 96)\n",
        "101\n",
        "(101, 1, 96)\n",
        "(101, 1, 96)\n",
        "48\n",
        "(48, 1, 96)\n",
        "(48, 1, 96)\n",
        "56\n",
        "(56, 1, 96)\n",
        "(56, 1, 96)\n",
        "68\n",
        "(68, 1, 96)\n",
        "(68, 1, 96)\n",
        "56\n",
        "(56, 1, 96)\n",
        "(56, 1, 96)\n",
        "81\n",
        "(81, 1, 96)\n",
        "(81, 1, 96)\n",
        "47\n",
        "(47, 1, 96)\n",
        "(47, 1, 96)\n",
        "75\n",
        "(75, 1, 96)\n",
        "(75, 1, 96)\n",
        "47\n",
        "(47, 1, 96)\n",
        "(47, 1, 96)\n",
        "51\n",
        "(51, 1, 96)\n",
        "(51, 1, 96)\n",
        "112\n",
        "(112, 1, 96)\n",
        "(112, 1, 96)\n",
        "96\n",
        "(96, 1, 96)\n",
        "(96, 1, 96)\n",
        "82\n",
        "(82, 1, 96)\n",
        "(82, 1, 96)\n",
        "32\n",
        "(32, 1, 96)\n",
        "(32, 1, 96)\n",
        "67\n",
        "(67, 1, 96)\n",
        "(67, 1, 96)\n",
        "40\n",
        "(40, 1, 96)\n",
        "(40, 1, 96)\n",
        "48\n",
        "(48, 1, 96)\n",
        "(48, 1, 96)\n",
        "64\n",
        "(64, 1, 96)\n",
        "(64, 1, 96)\n",
        "108\n",
        "(108, 1, 96)\n",
        "(108, 1, 96)\n",
        "107\n",
        "(107, 1, 96)\n",
        "(107, 1, 96)\n",
        "59\n",
        "(59, 1, 96)\n",
        "(59, 1, 96)\n",
        "64\n",
        "(64, 1, 96)\n",
        "(64, 1, 96)\n",
        "56\n",
        "(56, 1, 96)\n",
        "(56, 1, 96)\n",
        "48\n",
        "(48, 1, 96)\n",
        "(48, 1, 96)\n",
        "32\n",
        "(32, 1, 96)\n",
        "(32, 1, 96)\n",
        "56\n",
        "(56, 1, 96)\n",
        "(56, 1, 96)\n",
        "32\n",
        "(32, 1, 96)\n",
        "(32, 1, 96)\n",
        "60\n",
        "(60, 1, 96)\n",
        "(60, 1, 96)\n",
        "112\n",
        "(112, 1, 96)\n",
        "(112, 1, 96)\n",
        "57\n",
        "(57, 1, 96)\n",
        "(57, 1, 96)\n",
        "63\n",
        "(63, 1, 96)\n",
        "(63, 1, 96)\n",
        "64\n",
        "(64, 1, 96)\n",
        "(64, 1, 96)\n",
        "32\n",
        "(32, 1, 96)\n",
        "(32, 1, 96)\n",
        "56\n",
        "(56, 1, 96)\n",
        "(56, 1, 96)\n",
        "48\n",
        "(48, 1, 96)\n",
        "(48, 1, 96)\n",
        "63\n",
        "(63, 1, 96)\n",
        "(63, 1, 96)\n",
        "67\n",
        "(67, 1, 96)\n",
        "(67, 1, 96)\n",
        "59\n",
        "(59, 1, 96)\n",
        "(59, 1, 96)\n",
        "64\n",
        "(64, 1, 96)\n",
        "(64, 1, 96)\n",
        "40\n",
        "(40, 1, 96)\n",
        "(40, 1, 96)\n",
        "71\n",
        "(71, 1, 96)\n",
        "(71, 1, 96)\n",
        "52\n",
        "(52, 1, 96)\n",
        "(52, 1, 96)\n",
        "48\n",
        "(48, 1, 96)\n",
        "(48, 1, 96)\n",
        "56\n",
        "(56, 1, 96)\n",
        "(56, 1, 96)\n",
        "32\n",
        "(32, 1, 96)\n",
        "(32, 1, 96)\n",
        "48\n",
        "(48, 1, 96)\n",
        "(48, 1, 96)\n",
        "88\n",
        "(88, 1, 96)\n",
        "(88, 1, 96)\n",
        "64\n",
        "(64, 1, 96)\n",
        "(64, 1, 96)\n",
        "43\n",
        "(43, 1, 96)\n",
        "(43, 1, 96)\n",
        "48\n",
        "(48, 1, 96)\n",
        "(48, 1, 96)\n",
        "60\n",
        "(60, 1, 96)\n",
        "(60, 1, 96)\n",
        "64\n",
        "(64, 1, 96)\n",
        "(64, 1, 96)\n",
        "68\n",
        "(68, 1, 96)\n",
        "(68, 1, 96)\n",
        "51\n",
        "(51, 1, 96)\n",
        "(51, 1, 96)\n",
        "75\n",
        "(75, 1, 96)\n",
        "(75, 1, 96)\n",
        "32\n",
        "(32, 1, 96)\n",
        "(32, 1, 96)\n",
        "56\n",
        "(56, 1, 96)\n",
        "(56, 1, 96)\n",
        "75\n",
        "(75, 1, 96)\n",
        "(75, 1, 96)\n",
        "56\n",
        "(56, 1, 96)\n",
        "(56, 1, 96)\n",
        "32\n",
        "(32, 1, 96)\n",
        "(32, 1, 96)\n",
        "75\n",
        "(75, 1, 96)\n",
        "(75, 1, 96)\n",
        "100\n",
        "(100, 1, 96)\n",
        "(100, 1, 96)\n",
        "39\n",
        "(39, 1, 96)\n",
        "(39, 1, 96)\n",
        "40\n",
        "(40, 1, 96)\n",
        "(40, 1, 96)\n",
        "43\n",
        "(43, 1, 96)\n",
        "(43, 1, 96)\n",
        "75\n",
        "(75, 1, 96)\n",
        "(75, 1, 96)\n",
        "64\n",
        "(64, 1, 96)\n",
        "(64, 1, 96)\n",
        "48\n",
        "(48, 1, 96)\n",
        "(48, 1, 96)\n",
        "53\n",
        "(53, 1, 96)\n",
        "(53, 1, 96)\n",
        "48\n",
        "(48, 1, 96)\n",
        "(48, 1, 96)\n",
        "48\n",
        "(48, 1, 96)\n",
        "(48, 1, 96)\n",
        "63\n",
        "(63, 1, 96)\n",
        "(63, 1, 96)\n",
        "50\n",
        "(50, 1, 96)\n",
        "(50, 1, 96)\n",
        "108\n",
        "(108, 1, 96)\n",
        "(108, 1, 96)\n",
        "64\n",
        "(64, 1, 96)\n",
        "(64, 1, 96)\n",
        "64\n",
        "(64, 1, 96)\n",
        "(64, 1, 96)\n"
       ]
      },
      {
       "output_type": "stream",
       "stream": "stderr",
       "text": [
        "/home/eder/new_pylearn2/pylearn2/pylearn2/utils/iteration.py:783: UserWarning: dataset is using the old iterator interface which is deprecated and will become officially unsupported as of July 28, 2015. The dataset should implement a `get` method respecting the new interface.\n",
        "  warnings.warn(\"dataset is using the old iterator interface which \"\n"
       ]
      }
     ],
     "prompt_number": 3
    },
    {
     "cell_type": "code",
     "collapsed": false,
     "input": [
      "from pylearn2.sandbox.rnn.models.rnn import RNN, GRU, Recurrent\n",
      "from pylearn2.models.mlp import Sigmoid, CompositeLayer, Linear, MLP, Tanh, CompositeLayer, FlattenerLayer\n",
      "from pylearn2.space import VectorSpace, CompositeSpace\n",
      "from pylearn2.sandbox.rnn.space import SequenceDataSpace"
     ],
     "language": "python",
     "metadata": {},
     "outputs": [],
     "prompt_number": 4
    },
    {
     "cell_type": "code",
     "collapsed": false,
     "input": [
      "dimZ = 20\n",
      "dimX = 96\n",
      "bsize = 1\n",
      "dimH = 400\n",
      "IH_model = MLP(\n",
      "    batch_size=bsize,\n",
      "    input_space=CompositeSpace(\n",
      "        [VectorSpace(dimX), VectorSpace(dimZ)]\n",
      "        ),\n",
      "    input_source=['x', 'z'],\n",
      "    layers=[\n",
      "    #Tanh(layer_name='IH', dim=400+dimZ, irange=.01),\n",
      "    FlattenerLayer(CompositeLayer(\n",
      "        layer_name='rec',\n",
      "        layers=[\n",
      "            Tanh(layer_name='IHx', dim=dimH/2, irange=.01),\n",
      "            Tanh(layer_name='IHz', dim=dimH/2, irange=.01)\n",
      "        ]\n",
      "        )),\n",
      "    CompositeLayer(layer_name='mz and vz',\n",
      "        layers=[\n",
      "            Linear(layer_name='mz', dim=20, irange=.01),\n",
      "            Linear(layer_name='vz', dim=20, irange=.01)\n",
      "        ]\n",
      "        )\n",
      "    ]\n",
      ")\n",
      "\n",
      "HI_model = MLP(batch_size=bsize, nvis=dimZ, layers=[\n",
      "    Tanh(layer_name='H_decoder', dim=dimH, irange=.01),\n",
      "    Sigmoid(layer_name='x_hat', dim=dimX, irange=.01)\n",
      "])"
     ],
     "language": "python",
     "metadata": {},
     "outputs": [],
     "prompt_number": 5
    },
    {
     "cell_type": "code",
     "collapsed": false,
     "input": [
      "from vpcn_scan import VPCN\n",
      "import numpy as np\n",
      "import time\n",
      "import gzip, cPickle\n",
      "from theano import tensor as T\n",
      "\n",
      "L = 1\n",
      "learning_rate = .0001\n",
      "\n",
      "encoder = VPCN(IH_model,HI_model, T.tensor3('x'), L, learning_rate)\n",
      "encoder.initParams()\n",
      "encoder.createGradientFunctions()\n",
      "\n",
      "print \"Initializing weights and biases\"\n",
      "lowerbound = np.array([])\n",
      "testlowerbound = np.array([])\n",
      "\n",
      "begin = time.time()\n",
      "for j in xrange(150):\n",
      "    encoder.lowerbound = 0\n",
      "    print 'Iteration:', j\n",
      "    encoder.iterate(dataset)\n",
      "    end = time.time()\n",
      "    print(\"Iteration %d, lower bound = %.2f,\"\n",
      "          \" time = %.2fs\"\n",
      "          % (j, encoder.lowerbound*bsize/dataset.get_num_examples(), end - begin))\n",
      "    begin = end\n",
      "\n",
      "    if j % 5 == 0:\n",
      "        print \"Calculating test lowerbound\"\n",
      "        testlowerbound = np.append(testlowerbound,encoder.getLowerBound(dataset))"
     ],
     "language": "python",
     "metadata": {},
     "outputs": [
      {
       "output_type": "stream",
       "stream": "stdout",
       "text": [
        "Initializing weights and biases\n",
        "Iteration: 0\n",
        "$> Compiling optimizer.\n",
        "Iteration 0, lower bound = 1647.60, time = 30.00s"
       ]
      },
      {
       "output_type": "stream",
       "stream": "stdout",
       "text": [
        "\n",
        "Calculating test lowerbound\n",
        "Iteration:"
       ]
      },
      {
       "output_type": "stream",
       "stream": "stdout",
       "text": [
        " 1\n",
        "Iteration 1, lower bound = 1287.71, time = 6.88s"
       ]
      },
      {
       "output_type": "stream",
       "stream": "stdout",
       "text": [
        "\n",
        "Iteration: 2\n",
        "Iteration 2, lower bound = 1160.22, time = 3.83s"
       ]
      },
      {
       "output_type": "stream",
       "stream": "stdout",
       "text": [
        "\n",
        "Iteration: 3\n",
        "Iteration 3, lower bound = 1134.44, time = 3.83s"
       ]
      },
      {
       "output_type": "stream",
       "stream": "stdout",
       "text": [
        "\n",
        "Iteration: 4\n",
        "Iteration 4, lower bound = 1131.91, time = 3.83s"
       ]
      },
      {
       "output_type": "stream",
       "stream": "stdout",
       "text": [
        "\n",
        "Iteration: 5\n",
        "Iteration 5, lower bound = 1103.83, time = 3.83s"
       ]
      },
      {
       "output_type": "stream",
       "stream": "stdout",
       "text": [
        "\n",
        "Calculating test lowerbound\n",
        "Iteration:"
       ]
      },
      {
       "output_type": "stream",
       "stream": "stdout",
       "text": [
        " 6\n",
        "Iteration 6, lower bound = 1094.44, time = 6.87s"
       ]
      },
      {
       "output_type": "stream",
       "stream": "stdout",
       "text": [
        "\n",
        "Iteration: 7\n",
        "Iteration 7, lower bound = 1102.62, time = 3.82s"
       ]
      },
      {
       "output_type": "stream",
       "stream": "stdout",
       "text": [
        "\n",
        "Iteration: 8\n",
        "Iteration 8, lower bound = 1117.67, time = 3.82s"
       ]
      },
      {
       "output_type": "stream",
       "stream": "stdout",
       "text": [
        "\n",
        "Iteration: 9\n",
        "Iteration 9, lower bound = 1121.24, time = 3.83s"
       ]
      },
      {
       "output_type": "stream",
       "stream": "stdout",
       "text": [
        "\n",
        "Iteration: 10\n",
        "Iteration 10, lower bound = 1131.86, time = 3.83s"
       ]
      },
      {
       "output_type": "stream",
       "stream": "stdout",
       "text": [
        "\n",
        "Calculating test lowerbound\n",
        "Iteration:"
       ]
      },
      {
       "output_type": "stream",
       "stream": "stdout",
       "text": [
        " 11\n",
        "Iteration 11, lower bound = 1136.13, time = 6.87s"
       ]
      },
      {
       "output_type": "stream",
       "stream": "stdout",
       "text": [
        "\n",
        "Iteration: 12\n",
        "Iteration 12, lower bound = 1139.52, time = 3.83s"
       ]
      },
      {
       "output_type": "stream",
       "stream": "stdout",
       "text": [
        "\n",
        "Iteration: 13\n",
        "Iteration 13, lower bound = 1151.62, time = 3.83s"
       ]
      },
      {
       "output_type": "stream",
       "stream": "stdout",
       "text": [
        "\n",
        "Iteration: 14\n",
        "Iteration 14, lower bound = 1160.46, time = 3.83s"
       ]
      },
      {
       "output_type": "stream",
       "stream": "stdout",
       "text": [
        "\n",
        "Iteration: 15\n",
        "Iteration 15, lower bound = 1159.09, time = 3.83s"
       ]
      },
      {
       "output_type": "stream",
       "stream": "stdout",
       "text": [
        "\n",
        "Calculating test lowerbound\n",
        "Iteration:"
       ]
      },
      {
       "output_type": "stream",
       "stream": "stdout",
       "text": [
        " 16\n",
        "Iteration 16, lower bound = 1164.95, time = 6.87s"
       ]
      },
      {
       "output_type": "stream",
       "stream": "stdout",
       "text": [
        "\n",
        "Iteration: 17\n",
        "Iteration 17, lower bound = 1165.94, time = 3.83s"
       ]
      },
      {
       "output_type": "stream",
       "stream": "stdout",
       "text": [
        "\n",
        "Iteration: 18\n",
        "Iteration 18, lower bound = 1171.49, time = 3.83s"
       ]
      },
      {
       "output_type": "stream",
       "stream": "stdout",
       "text": [
        "\n",
        "Iteration: 19\n",
        "Iteration 19, lower bound = 1175.40, time = 3.83s"
       ]
      },
      {
       "output_type": "stream",
       "stream": "stdout",
       "text": [
        "\n",
        "Iteration: 20\n",
        "Iteration 20, lower bound = 1182.82, time = 3.83s"
       ]
      },
      {
       "output_type": "stream",
       "stream": "stdout",
       "text": [
        "\n",
        "Calculating test lowerbound\n",
        "Iteration:"
       ]
      },
      {
       "output_type": "stream",
       "stream": "stdout",
       "text": [
        " 21\n",
        "Iteration 21, lower bound = 1182.51, time = 6.87s"
       ]
      },
      {
       "output_type": "stream",
       "stream": "stdout",
       "text": [
        "\n",
        "Iteration: 22\n",
        "Iteration 22, lower bound = 1181.57, time = 3.83s"
       ]
      },
      {
       "output_type": "stream",
       "stream": "stdout",
       "text": [
        "\n",
        "Iteration: 23\n",
        "Iteration 23, lower bound = 1188.96, time = 3.83s"
       ]
      },
      {
       "output_type": "stream",
       "stream": "stdout",
       "text": [
        "\n",
        "Iteration: 24\n",
        "Iteration 24, lower bound = 1190.80, time = 3.83s"
       ]
      },
      {
       "output_type": "stream",
       "stream": "stdout",
       "text": [
        "\n",
        "Iteration: 25\n",
        "Iteration 25, lower bound = 1194.07, time = 3.83s"
       ]
      },
      {
       "output_type": "stream",
       "stream": "stdout",
       "text": [
        "\n",
        "Calculating test lowerbound\n",
        "Iteration:"
       ]
      },
      {
       "output_type": "stream",
       "stream": "stdout",
       "text": [
        " 26\n",
        "Iteration 26, lower bound = 1190.68, time = 6.87s"
       ]
      },
      {
       "output_type": "stream",
       "stream": "stdout",
       "text": [
        "\n",
        "Iteration: 27\n"
       ]
      },
      {
       "output_type": "stream",
       "stream": "stderr",
       "text": [
        "/home/eder/new_theano/local/lib/python2.7/site-packages/theano/scan_module/scan_perform_ext.py:133: RuntimeWarning: numpy.ndarray size changed, may indicate binary incompatibility\n",
        "  from scan_perform.scan_perform import *\n"
       ]
      },
      {
       "ename": "KeyboardInterrupt",
       "evalue": "",
       "output_type": "pyerr",
       "traceback": [
        "\u001b[1;31m---------------------------------------------------------------------------\u001b[0m\n\u001b[1;31mKeyboardInterrupt\u001b[0m                         Traceback (most recent call last)",
        "\u001b[1;32m<ipython-input-6-421153b15071>\u001b[0m in \u001b[0;36m<module>\u001b[1;34m()\u001b[0m\n\u001b[0;32m     20\u001b[0m     \u001b[0mencoder\u001b[0m\u001b[1;33m.\u001b[0m\u001b[0mlowerbound\u001b[0m \u001b[1;33m=\u001b[0m \u001b[1;36m0\u001b[0m\u001b[1;33m\u001b[0m\u001b[0m\n\u001b[0;32m     21\u001b[0m     \u001b[1;32mprint\u001b[0m \u001b[1;34m'Iteration:'\u001b[0m\u001b[1;33m,\u001b[0m \u001b[0mj\u001b[0m\u001b[1;33m\u001b[0m\u001b[0m\n\u001b[1;32m---> 22\u001b[1;33m     \u001b[0mencoder\u001b[0m\u001b[1;33m.\u001b[0m\u001b[0miterate\u001b[0m\u001b[1;33m(\u001b[0m\u001b[0mdataset\u001b[0m\u001b[1;33m)\u001b[0m\u001b[1;33m\u001b[0m\u001b[0m\n\u001b[0m\u001b[0;32m     23\u001b[0m     \u001b[0mend\u001b[0m \u001b[1;33m=\u001b[0m \u001b[0mtime\u001b[0m\u001b[1;33m.\u001b[0m\u001b[0mtime\u001b[0m\u001b[1;33m(\u001b[0m\u001b[1;33m)\u001b[0m\u001b[1;33m\u001b[0m\u001b[0m\n\u001b[0;32m     24\u001b[0m     print(\"Iteration %d, lower bound = %.2f,\"\n",
        "\u001b[1;32m/home/eder/Copy/python/sandbox/kd/PreTRNN/vpcn_scan.py\u001b[0m in \u001b[0;36miterate\u001b[1;34m(self, dataset)\u001b[0m\n\u001b[0;32m    101\u001b[0m                                  \u001b[0mself\u001b[0m\u001b[1;33m.\u001b[0m\u001b[0mbatch_size\u001b[0m\u001b[1;33m,\u001b[0m\u001b[1;33m\u001b[0m\u001b[0m\n\u001b[0;32m    102\u001b[0m                                  self.dimZ]).astype('float32')\n\u001b[1;32m--> 103\u001b[1;33m             \u001b[0m_\u001b[0m\u001b[1;33m,\u001b[0m \u001b[0mt\u001b[0m \u001b[1;33m=\u001b[0m \u001b[0mself\u001b[0m\u001b[1;33m.\u001b[0m\u001b[0mopt\u001b[0m\u001b[1;33m.\u001b[0m\u001b[0mrun\u001b[0m\u001b[1;33m(\u001b[0m\u001b[1;36m1\u001b[0m\u001b[1;33m,\u001b[0m \u001b[0mminiBatch\u001b[0m\u001b[1;33m,\u001b[0m \u001b[0me\u001b[0m\u001b[1;33m)\u001b[0m\u001b[1;33m\u001b[0m\u001b[0m\n\u001b[0m\u001b[0;32m    104\u001b[0m             \u001b[0mself\u001b[0m\u001b[1;33m.\u001b[0m\u001b[0mlowerbound\u001b[0m \u001b[1;33m+=\u001b[0m \u001b[0mt\u001b[0m\u001b[1;33m\u001b[0m\u001b[0m\n\u001b[0;32m    105\u001b[0m \u001b[1;33m\u001b[0m\u001b[0m\n",
        "\u001b[1;32m/home/eder/Copy/python/top/__init__.pyc\u001b[0m in \u001b[0;36mrun\u001b[1;34m(self, niter, *args)\u001b[0m\n\u001b[0;32m    223\u001b[0m       \u001b[0mself\u001b[0m\u001b[1;33m.\u001b[0m\u001b[0mcompile\u001b[0m\u001b[1;33m(\u001b[0m\u001b[1;33m)\u001b[0m\u001b[1;33m\u001b[0m\u001b[0m\n\u001b[0;32m    224\u001b[0m     \u001b[1;32mfor\u001b[0m \u001b[0mk\u001b[0m \u001b[1;32min\u001b[0m \u001b[0mrange\u001b[0m\u001b[1;33m(\u001b[0m\u001b[0mniter\u001b[0m\u001b[1;33m)\u001b[0m\u001b[1;33m:\u001b[0m\u001b[1;33m\u001b[0m\u001b[0m\n\u001b[1;32m--> 225\u001b[1;33m       \u001b[0mtotal\u001b[0m \u001b[1;33m+=\u001b[0m \u001b[0mself\u001b[0m\u001b[1;33m.\u001b[0m\u001b[0mf\u001b[0m\u001b[1;33m(\u001b[0m\u001b[1;33m*\u001b[0m\u001b[0margs\u001b[0m\u001b[1;33m)\u001b[0m\u001b[1;33m\u001b[0m\u001b[0m\n\u001b[0m\u001b[0;32m    226\u001b[0m     \u001b[1;32mreturn\u001b[0m \u001b[0mself\u001b[0m\u001b[1;33m,\u001b[0m \u001b[0mtotal\u001b[0m\u001b[1;33m\u001b[0m\u001b[0m\n\u001b[0;32m    227\u001b[0m \u001b[1;33m\u001b[0m\u001b[0m\n",
        "\u001b[1;32m/home/eder/new_theano/local/lib/python2.7/site-packages/theano/compile/function_module.pyc\u001b[0m in \u001b[0;36m__call__\u001b[1;34m(self, *args, **kwargs)\u001b[0m\n\u001b[0;32m    593\u001b[0m         \u001b[0mt0_fn\u001b[0m \u001b[1;33m=\u001b[0m \u001b[0mtime\u001b[0m\u001b[1;33m.\u001b[0m\u001b[0mtime\u001b[0m\u001b[1;33m(\u001b[0m\u001b[1;33m)\u001b[0m\u001b[1;33m\u001b[0m\u001b[0m\n\u001b[0;32m    594\u001b[0m         \u001b[1;32mtry\u001b[0m\u001b[1;33m:\u001b[0m\u001b[1;33m\u001b[0m\u001b[0m\n\u001b[1;32m--> 595\u001b[1;33m             \u001b[0moutputs\u001b[0m \u001b[1;33m=\u001b[0m \u001b[0mself\u001b[0m\u001b[1;33m.\u001b[0m\u001b[0mfn\u001b[0m\u001b[1;33m(\u001b[0m\u001b[1;33m)\u001b[0m\u001b[1;33m\u001b[0m\u001b[0m\n\u001b[0m\u001b[0;32m    596\u001b[0m         \u001b[1;32mexcept\u001b[0m \u001b[0mException\u001b[0m\u001b[1;33m:\u001b[0m\u001b[1;33m\u001b[0m\u001b[0m\n\u001b[0;32m    597\u001b[0m             \u001b[1;32mif\u001b[0m \u001b[0mhasattr\u001b[0m\u001b[1;33m(\u001b[0m\u001b[0mself\u001b[0m\u001b[1;33m.\u001b[0m\u001b[0mfn\u001b[0m\u001b[1;33m,\u001b[0m \u001b[1;34m'position_of_error'\u001b[0m\u001b[1;33m)\u001b[0m\u001b[1;33m:\u001b[0m\u001b[1;33m\u001b[0m\u001b[0m\n",
        "\u001b[1;32m/home/eder/new_theano/local/lib/python2.7/site-packages/theano/scan_module/scan_op.pyc\u001b[0m in \u001b[0;36mrval\u001b[1;34m(p, i, o, n, allow_gc)\u001b[0m\n\u001b[0;32m    635\u001b[0m         def rval(p=p, i=node_input_storage, o=node_output_storage, n=node,\n\u001b[0;32m    636\u001b[0m                  allow_gc=allow_gc):\n\u001b[1;32m--> 637\u001b[1;33m             \u001b[0mr\u001b[0m \u001b[1;33m=\u001b[0m \u001b[0mp\u001b[0m\u001b[1;33m(\u001b[0m\u001b[0mn\u001b[0m\u001b[1;33m,\u001b[0m \u001b[1;33m[\u001b[0m\u001b[0mx\u001b[0m\u001b[1;33m[\u001b[0m\u001b[1;36m0\u001b[0m\u001b[1;33m]\u001b[0m \u001b[1;32mfor\u001b[0m \u001b[0mx\u001b[0m \u001b[1;32min\u001b[0m \u001b[0mi\u001b[0m\u001b[1;33m]\u001b[0m\u001b[1;33m,\u001b[0m \u001b[0mo\u001b[0m\u001b[1;33m)\u001b[0m\u001b[1;33m\u001b[0m\u001b[0m\n\u001b[0m\u001b[0;32m    638\u001b[0m             \u001b[1;32mfor\u001b[0m \u001b[0mo\u001b[0m \u001b[1;32min\u001b[0m \u001b[0mnode\u001b[0m\u001b[1;33m.\u001b[0m\u001b[0moutputs\u001b[0m\u001b[1;33m:\u001b[0m\u001b[1;33m\u001b[0m\u001b[0m\n\u001b[0;32m    639\u001b[0m                 \u001b[0mcompute_map\u001b[0m\u001b[1;33m[\u001b[0m\u001b[0mo\u001b[0m\u001b[1;33m]\u001b[0m\u001b[1;33m[\u001b[0m\u001b[1;36m0\u001b[0m\u001b[1;33m]\u001b[0m \u001b[1;33m=\u001b[0m \u001b[0mTrue\u001b[0m\u001b[1;33m\u001b[0m\u001b[0m\n",
        "\u001b[1;32m/home/eder/new_theano/local/lib/python2.7/site-packages/theano/scan_module/scan_op.pyc\u001b[0m in \u001b[0;36m<lambda>\u001b[1;34m(node, args, outs)\u001b[0m\n\u001b[0;32m    624\u001b[0m                         \u001b[0margs\u001b[0m\u001b[1;33m,\u001b[0m\u001b[1;33m\u001b[0m\u001b[0m\n\u001b[0;32m    625\u001b[0m                         \u001b[0mouts\u001b[0m\u001b[1;33m,\u001b[0m\u001b[1;33m\u001b[0m\u001b[0m\n\u001b[1;32m--> 626\u001b[1;33m                         self, node)\n\u001b[0m\u001b[0;32m    627\u001b[0m         \u001b[1;32mexcept\u001b[0m \u001b[1;33m(\u001b[0m\u001b[0mImportError\u001b[0m\u001b[1;33m,\u001b[0m \u001b[0mtheano\u001b[0m\u001b[1;33m.\u001b[0m\u001b[0mgof\u001b[0m\u001b[1;33m.\u001b[0m\u001b[0mcmodule\u001b[0m\u001b[1;33m.\u001b[0m\u001b[0mMissingGXX\u001b[0m\u001b[1;33m)\u001b[0m\u001b[1;33m:\u001b[0m\u001b[1;33m\u001b[0m\u001b[0m\n\u001b[0;32m    628\u001b[0m             \u001b[0mp\u001b[0m \u001b[1;33m=\u001b[0m \u001b[0mself\u001b[0m\u001b[1;33m.\u001b[0m\u001b[0mexecute\u001b[0m\u001b[1;33m\u001b[0m\u001b[0m\n",
        "\u001b[1;31mKeyboardInterrupt\u001b[0m: "
       ]
      }
     ],
     "prompt_number": 6
    },
    {
     "cell_type": "code",
     "collapsed": false,
     "input": [
      "import theano as th\n",
      "from theano import tensor as T\n",
      "X,Z = IH_model.input_space.make_theano_batch()\n",
      "m, ls = IH_model.fprop((X,Z))\n",
      "fih = th.function([X,Z],[m,ls])\n",
      "print m\n",
      "print X\n",
      "print Z"
     ],
     "language": "python",
     "metadata": {},
     "outputs": []
    },
    {
     "cell_type": "code",
     "collapsed": false,
     "input": [
      "import theano as th\n",
      "import numpy as np\n",
      "X, eps = T.tensor3s('X', 'eps') #IH_model.rng.normal(0,1,size=(sel    f.batch_size, self.dimZ)) #T.matrix('eps')\n",
      "'''\n",
      "if self.continuous:\n",
      "h_encoder = T.nnet.softplus(T.dot(W1,x) + b1)\n",
      " 43         else:   \n",
      " 44             #h_encoder = T.tanh(T.dot(W1,x) + b1)\n",
      " 45             h_encoder = self.IH_model.fprop(x)\n",
      " 46         '''\n",
      "def rstep(x,e,z_t):\n",
      "    m, ls = IH_model.fprop((x,z_t))\n",
      "    ls2 = .5*ls\n",
      "    z = m + e * T.exp(ls2)\n",
      "    p = 0.5* T.sum(np.ones(1).astype('float32')[0] + 2.*ls2 - m**2 - T.exp(2.*ls2))\n",
      "          \n",
      "    y = HI_model.fprop(z)\n",
      "    lpxz = -T.nnet.binary_crossentropy(y,x).sum()\n",
      "\n",
      "    return z, p, lpxz\n",
      "      \n",
      "zero = np.zeros((bsize, dimZ)).astype('float32')\n",
      "[z,prior,logpxz], _ = th.scan(rstep, \n",
      "                       sequences=[X, eps],\n",
      "                       outputs_info=[th.shared(zero), None, None],\n",
      "                       truncate_gradient=1\n",
      "                       )\n",
      "        \n",
      "cost = prior.sum() + logpxz.sum()"
     ],
     "language": "python",
     "metadata": {},
     "outputs": []
    },
    {
     "cell_type": "code",
     "collapsed": false,
     "input": [
      "params = IH_model.get_params() + HI_model.get_params()\n",
      "fy = th.function([X,eps],[z,prior,logpxz])\n",
      "fg = th.function([X,eps],T.grad(cost,params, disconnected_inputs='ignore'),on_unused_input='ignore')"
     ],
     "language": "python",
     "metadata": {},
     "outputs": [],
     "prompt_number": 9
    },
    {
     "cell_type": "code",
     "collapsed": false,
     "input": [
      "xx = np.random.normal(0,1,(1,1,96)).astype('float32')\n",
      "ee = np.random.normal(0,1,(1,1,20)).astype('float32')\n",
      "fy(d,ee)[0].shape\n",
      "import top\n",
      "opt = top.Optimizer(params, cost, learning_rate=.01, method='adagrad', input=[X,eps])"
     ],
     "language": "python",
     "metadata": {},
     "outputs": [],
     "prompt_number": 10
    },
    {
     "cell_type": "code",
     "collapsed": false,
     "input": [
      "for d,b in dataset.iterator(1, dataset.get_num_examples(), mode='sequential',\n",
      "                 data_specs=dataset.get_data_specs()):\n",
      "    e = np.random.normal(0,1,(d.shape[0],d.shape[1],20)).astype('float32')\n",
      "    print d.shape\n",
      "    #opt.run(1,d[:-2],e[:-2])\n",
      "    print len(fy(d,e))\n",
      "    print len(fg(d,e))"
     ],
     "language": "python",
     "metadata": {},
     "outputs": [
      {
       "output_type": "stream",
       "stream": "stdout",
       "text": [
        "(128, 1, 96)\n",
        "3\n",
        "12"
       ]
      },
      {
       "output_type": "stream",
       "stream": "stdout",
       "text": [
        "\n",
        "(64, 1, 96)\n",
        "3\n",
        "12\n",
        "(48, 1, 96)\n",
        "3\n",
        "12"
       ]
      },
      {
       "output_type": "stream",
       "stream": "stdout",
       "text": [
        "\n",
        "(64, 1, 96)\n",
        "3\n",
        "12\n",
        "(113, 1, 96)\n",
        "3"
       ]
      },
      {
       "output_type": "stream",
       "stream": "stdout",
       "text": [
        "\n",
        "12\n",
        "(32, 1, 96)\n",
        "3\n",
        "12\n",
        "(56, 1, 96)\n",
        "3"
       ]
      },
      {
       "output_type": "stream",
       "stream": "stdout",
       "text": [
        "\n",
        "12\n",
        "(48, 1, 96)\n",
        "3\n",
        "12\n",
        "(63, 1, 96)\n",
        "3"
       ]
      },
      {
       "output_type": "stream",
       "stream": "stdout",
       "text": [
        "\n",
        "12\n",
        "(32, 1, 96)\n",
        "3\n",
        "12\n",
        "(107, 1, 96)\n",
        "3"
       ]
      },
      {
       "output_type": "stream",
       "stream": "stdout",
       "text": [
        "\n",
        "12\n",
        "(47, 1, 96)\n",
        "3\n",
        "12\n",
        "(48, 1, 96)\n",
        "3"
       ]
      },
      {
       "output_type": "stream",
       "stream": "stdout",
       "text": [
        "\n",
        "12\n",
        "(47, 1, 96)\n",
        "3\n",
        "12\n",
        "(60, 1, 96)\n",
        "3\n",
        "12"
       ]
      },
      {
       "output_type": "stream",
       "stream": "stdout",
       "text": [
        "\n",
        "(47, 1, 96)\n",
        "3\n",
        "12\n",
        "(64, 1, 96)\n",
        "3\n",
        "12"
       ]
      },
      {
       "output_type": "stream",
       "stream": "stdout",
       "text": [
        "\n",
        "(52, 1, 96)\n",
        "3\n",
        "12\n",
        "(40, 1, 96)\n",
        "3\n",
        "12\n",
        "(51, 1, 96)\n",
        "3"
       ]
      },
      {
       "output_type": "stream",
       "stream": "stdout",
       "text": [
        "\n",
        "12\n",
        "(32, 1, 96)\n",
        "3\n",
        "12\n",
        "(60, 1, 96)\n",
        "3\n",
        "12"
       ]
      },
      {
       "output_type": "stream",
       "stream": "stdout",
       "text": [
        "\n",
        "(40, 1, 96)\n",
        "3\n",
        "12\n",
        "(44, 1, 96)\n",
        "3\n",
        "12\n",
        "(68, 1, 96)\n",
        "3"
       ]
      },
      {
       "output_type": "stream",
       "stream": "stdout",
       "text": [
        "\n",
        "12\n",
        "(38, 1, 96)\n",
        "3\n",
        "12\n",
        "(56, 1, 96)\n",
        "3\n",
        "12"
       ]
      },
      {
       "output_type": "stream",
       "stream": "stdout",
       "text": [
        "\n",
        "(79, 1, 96)\n",
        "3\n",
        "12\n",
        "(85, 1, 96)\n",
        "3"
       ]
      },
      {
       "output_type": "stream",
       "stream": "stdout",
       "text": [
        "\n",
        "12\n",
        "(56, 1, 96)\n",
        "3\n",
        "12\n",
        "(60, 1, 96)\n",
        "3"
       ]
      },
      {
       "output_type": "stream",
       "stream": "stdout",
       "text": [
        "\n",
        "12\n",
        "(104, 1, 96)\n",
        "3\n",
        "12"
       ]
      },
      {
       "output_type": "stream",
       "stream": "stdout",
       "text": [
        "\n",
        "(67, 1, 96)\n",
        "3\n",
        "12\n",
        "(64, 1, 96)\n",
        "3\n",
        "12"
       ]
      },
      {
       "output_type": "stream",
       "stream": "stdout",
       "text": [
        "\n",
        "(47, 1, 96)\n",
        "3\n",
        "12\n",
        "(56, 1, 96)\n",
        "3\n",
        "12\n",
        "(56, 1, 96)\n",
        "3"
       ]
      },
      {
       "output_type": "stream",
       "stream": "stdout",
       "text": [
        "\n",
        "12\n",
        "(51, 1, 96)\n",
        "3\n",
        "12\n",
        "(47, 1, 96)\n",
        "3\n",
        "12"
       ]
      },
      {
       "output_type": "stream",
       "stream": "stdout",
       "text": [
        "\n",
        "(32, 1, 96)\n",
        "3\n",
        "12\n",
        "(92, 1, 96)\n",
        "3\n",
        "12"
       ]
      },
      {
       "output_type": "stream",
       "stream": "stdout",
       "text": [
        "\n",
        "(40, 1, 96)\n",
        "3\n",
        "12\n",
        "(64, 1, 96)\n",
        "3\n",
        "12\n",
        "(48, 1, 96)\n",
        "3"
       ]
      },
      {
       "output_type": "stream",
       "stream": "stdout",
       "text": [
        "\n",
        "12\n",
        "(72, 1, 96)\n",
        "3\n",
        "12\n",
        "(47, 1, 96)\n",
        "3"
       ]
      },
      {
       "output_type": "stream",
       "stream": "stdout",
       "text": [
        "\n",
        "12\n",
        "(32, 1, 96)\n",
        "3\n",
        "12\n",
        "(44, 1, 96)\n",
        "3\n",
        "12\n",
        "(64, 1, 96)\n",
        "3"
       ]
      },
      {
       "output_type": "stream",
       "stream": "stdout",
       "text": [
        "\n",
        "12\n",
        "(51, 1, 96)\n",
        "3\n",
        "12\n",
        "(48, 1, 96)\n",
        "3\n",
        "12"
       ]
      },
      {
       "output_type": "stream",
       "stream": "stdout",
       "text": [
        "\n",
        "(108, 1, 96)\n",
        "3\n",
        "12\n",
        "(48, 1, 96)\n",
        "3"
       ]
      },
      {
       "output_type": "stream",
       "stream": "stdout",
       "text": [
        "\n",
        "12\n",
        "(51, 1, 96)\n",
        "3\n",
        "12\n",
        "(64, 1, 96)\n",
        "3\n",
        "12"
       ]
      },
      {
       "output_type": "stream",
       "stream": "stdout",
       "text": [
        "\n",
        "(40, 1, 96)\n",
        "3\n",
        "12\n",
        "(48, 1, 96)\n",
        "3\n",
        "12\n",
        "(64, 1, 96)\n",
        "3"
       ]
      },
      {
       "output_type": "stream",
       "stream": "stdout",
       "text": [
        "\n",
        "12\n",
        "(76, 1, 96)\n",
        "3\n",
        "12\n",
        "(72, 1, 96)\n",
        "3"
       ]
      },
      {
       "output_type": "stream",
       "stream": "stdout",
       "text": [
        "\n",
        "12\n",
        "(56, 1, 96)\n",
        "3\n",
        "12\n",
        "(40, 1, 96)\n",
        "3\n",
        "12"
       ]
      },
      {
       "output_type": "stream",
       "stream": "stdout",
       "text": [
        "\n",
        "(64, 1, 96)\n",
        "3\n",
        "12\n",
        "(56, 1, 96)\n",
        "3\n",
        "12"
       ]
      },
      {
       "output_type": "stream",
       "stream": "stdout",
       "text": [
        "\n",
        "(43, 1, 96)\n",
        "3\n",
        "12\n",
        "(32, 1, 96)\n",
        "3\n",
        "12\n",
        "(84, 1, 96)\n",
        "3"
       ]
      },
      {
       "output_type": "stream",
       "stream": "stdout",
       "text": [
        "\n",
        "12\n",
        "(71, 1, 96)\n",
        "3\n",
        "12\n",
        "(59, 1, 96)\n",
        "3"
       ]
      },
      {
       "output_type": "stream",
       "stream": "stdout",
       "text": [
        "\n",
        "12\n",
        "(40, 1, 96)\n",
        "3\n",
        "12\n",
        "(48, 1, 96)\n",
        "3\n",
        "12"
       ]
      },
      {
       "output_type": "stream",
       "stream": "stdout",
       "text": [
        "\n",
        "(32, 1, 96)\n",
        "3\n",
        "12\n",
        "(55, 1, 96)\n",
        "3\n",
        "12\n",
        "(51, 1, 96)\n",
        "3"
       ]
      },
      {
       "output_type": "stream",
       "stream": "stdout",
       "text": [
        "\n",
        "12\n",
        "(55, 1, 96)\n",
        "3\n",
        "12\n",
        "(82, 1, 96)\n",
        "3"
       ]
      },
      {
       "output_type": "stream",
       "stream": "stdout",
       "text": [
        "\n",
        "12\n",
        "(56, 1, 96)\n",
        "3\n",
        "12\n",
        "(56, 1, 96)\n",
        "3"
       ]
      },
      {
       "output_type": "stream",
       "stream": "stdout",
       "text": [
        "\n",
        "12\n",
        "(51, 1, 96)\n",
        "3\n",
        "12\n",
        "(40, 1, 96)\n",
        "3\n",
        "12"
       ]
      },
      {
       "output_type": "stream",
       "stream": "stdout",
       "text": [
        "\n",
        "(52, 1, 96)\n",
        "3\n",
        "12\n",
        "(63, 1, 96)\n",
        "3\n",
        "12"
       ]
      },
      {
       "output_type": "stream",
       "stream": "stdout",
       "text": [
        "\n",
        "(60, 1, 96)\n",
        "3\n",
        "12\n",
        "(64, 1, 96)\n",
        "3\n",
        "12"
       ]
      },
      {
       "output_type": "stream",
       "stream": "stdout",
       "text": [
        "\n",
        "(64, 1, 96)\n",
        "3\n",
        "12\n",
        "(47, 1, 96)\n",
        "3\n",
        "12\n",
        "(24, 1, 96)\n",
        "3"
       ]
      },
      {
       "output_type": "stream",
       "stream": "stdout",
       "text": [
        "\n",
        "12\n",
        "(95, 1, 96)\n",
        "3\n",
        "12\n",
        "(40, 1, 96)\n",
        "3"
       ]
      },
      {
       "output_type": "stream",
       "stream": "stdout",
       "text": [
        "\n",
        "12\n",
        "(36, 1, 96)\n",
        "3\n",
        "12\n",
        "(75, 1, 96)\n",
        "3\n",
        "12"
       ]
      },
      {
       "output_type": "stream",
       "stream": "stdout",
       "text": [
        "\n",
        "(64, 1, 96)\n",
        "3\n",
        "12\n",
        "(64, 1, 96)\n",
        "3\n",
        "12"
       ]
      },
      {
       "output_type": "stream",
       "stream": "stdout",
       "text": [
        "\n",
        "(71, 1, 96)\n",
        "3\n",
        "12\n",
        "(40, 1, 96)\n",
        "3\n",
        "12\n",
        "(64, 1, 96)\n",
        "3"
       ]
      },
      {
       "output_type": "stream",
       "stream": "stdout",
       "text": [
        "\n",
        "12\n",
        "(40, 1, 96)\n",
        "3\n",
        "12\n",
        "(36, 1, 96)\n",
        "3\n",
        "12\n",
        "(76, 1, 96)\n",
        "3"
       ]
      },
      {
       "output_type": "stream",
       "stream": "stdout",
       "text": [
        "\n",
        "12\n",
        "(47, 1, 96)\n",
        "3\n",
        "12\n",
        "(84, 1, 96)\n",
        "3"
       ]
      },
      {
       "output_type": "stream",
       "stream": "stdout",
       "text": [
        "\n",
        "12\n",
        "(56, 1, 96)\n",
        "3\n",
        "12\n",
        "(71, 1, 96)\n",
        "3"
       ]
      },
      {
       "output_type": "stream",
       "stream": "stdout",
       "text": [
        "\n",
        "12\n",
        "(47, 1, 96)\n",
        "3\n",
        "12\n",
        "(44, 1, 96)\n",
        "3\n",
        "12"
       ]
      },
      {
       "output_type": "stream",
       "stream": "stdout",
       "text": [
        "\n",
        "(52, 1, 96)\n",
        "3\n",
        "12\n",
        "(48, 1, 96)\n",
        "3\n",
        "12\n",
        "(83, 1, 96)\n",
        "3"
       ]
      },
      {
       "output_type": "stream",
       "stream": "stdout",
       "text": [
        "\n",
        "12\n",
        "(67, 1, 96)\n",
        "3\n",
        "12\n",
        "(48, 1, 96)\n",
        "3"
       ]
      },
      {
       "output_type": "stream",
       "stream": "stdout",
       "text": [
        "\n",
        "12\n",
        "(72, 1, 96)\n",
        "3\n",
        "12\n",
        "(49, 1, 96)\n",
        "3"
       ]
      },
      {
       "output_type": "stream",
       "stream": "stdout",
       "text": [
        "\n",
        "12\n",
        "(95, 1, 96)\n",
        "3\n",
        "12\n",
        "(54, 1, 96)"
       ]
      },
      {
       "output_type": "stream",
       "stream": "stdout",
       "text": [
        "\n",
        "3\n",
        "12\n",
        "(65, 1, 96)\n",
        "3\n",
        "12"
       ]
      },
      {
       "output_type": "stream",
       "stream": "stdout",
       "text": [
        "\n",
        "(97, 1, 96)\n",
        "3\n",
        "12\n",
        "(36, 1, 96)\n",
        "3\n",
        "12"
       ]
      },
      {
       "output_type": "stream",
       "stream": "stdout",
       "text": [
        "\n",
        "(75, 1, 96)\n",
        "3\n",
        "12\n",
        "(64, 1, 96)\n",
        "3\n",
        "12"
       ]
      },
      {
       "output_type": "stream",
       "stream": "stdout",
       "text": [
        "\n",
        "(32, 1, 96)\n",
        "3\n",
        "12\n",
        "(48, 1, 96)\n",
        "3\n",
        "12\n",
        "(76, 1, 96)\n",
        "3"
       ]
      },
      {
       "output_type": "stream",
       "stream": "stdout",
       "text": [
        "\n",
        "12\n",
        "(75, 1, 96)\n",
        "3\n",
        "12\n",
        "(64, 1, 96)\n",
        "3"
       ]
      },
      {
       "output_type": "stream",
       "stream": "stdout",
       "text": [
        "\n",
        "12\n",
        "(127, 1, 96)\n",
        "3\n",
        "12"
       ]
      },
      {
       "output_type": "stream",
       "stream": "stdout",
       "text": [
        "\n",
        "(40, 1, 96)\n",
        "3\n",
        "12\n",
        "(44, 1, 96)\n",
        "3\n",
        "12\n",
        "(60, 1, 96)\n",
        "3"
       ]
      },
      {
       "output_type": "stream",
       "stream": "stdout",
       "text": [
        "\n",
        "12\n",
        "(32, 1, 96)\n",
        "3\n",
        "12\n",
        "(87, 1, 96)\n",
        "3\n",
        "12"
       ]
      },
      {
       "output_type": "stream",
       "stream": "stdout",
       "text": [
        "\n",
        "(60, 1, 96)\n",
        "3\n",
        "12\n",
        "(62, 1, 96)\n",
        "3\n",
        "12"
       ]
      },
      {
       "output_type": "stream",
       "stream": "stdout",
       "text": [
        "\n",
        "(64, 1, 96)\n",
        "3\n",
        "12\n",
        "(67, 1, 96)\n",
        "3\n",
        "12"
       ]
      },
      {
       "output_type": "stream",
       "stream": "stdout",
       "text": [
        "\n",
        "(59, 1, 96)\n",
        "3\n",
        "12\n",
        "(48, 1, 96)\n",
        "3\n",
        "12\n",
        "(47, 1, 96)\n",
        "3"
       ]
      },
      {
       "output_type": "stream",
       "stream": "stdout",
       "text": [
        "\n",
        "12\n",
        "(44, 1, 96)\n",
        "3\n",
        "12\n",
        "(64, 1, 96)\n",
        "3\n",
        "12"
       ]
      },
      {
       "output_type": "stream",
       "stream": "stdout",
       "text": [
        "\n",
        "(44, 1, 96)\n",
        "3\n",
        "12\n",
        "(32, 1, 96)\n",
        "3\n",
        "12\n",
        "(63, 1, 96)\n",
        "3"
       ]
      },
      {
       "output_type": "stream",
       "stream": "stdout",
       "text": [
        "\n",
        "12\n",
        "(63, 1, 96)\n",
        "3\n",
        "12\n",
        "(64, 1, 96)\n",
        "3"
       ]
      },
      {
       "output_type": "stream",
       "stream": "stdout",
       "text": [
        "\n",
        "12\n",
        "(48, 1, 96)\n",
        "3\n",
        "12\n",
        "(62, 1, 96)\n",
        "3\n",
        "12"
       ]
      },
      {
       "output_type": "stream",
       "stream": "stdout",
       "text": [
        "\n",
        "(60, 1, 96)\n",
        "3\n",
        "12\n",
        "(47, 1, 96)\n",
        "3\n",
        "12\n",
        "(44, 1, 96)\n",
        "3"
       ]
      },
      {
       "output_type": "stream",
       "stream": "stdout",
       "text": [
        "\n",
        "12\n",
        "(64, 1, 96)\n",
        "3\n",
        "12\n",
        "(83, 1, 96)\n",
        "3"
       ]
      },
      {
       "output_type": "stream",
       "stream": "stdout",
       "text": [
        "\n",
        "12\n",
        "(119, 1, 96)\n",
        "3\n",
        "12"
       ]
      },
      {
       "output_type": "stream",
       "stream": "stdout",
       "text": [
        "\n",
        "(40, 1, 96)\n",
        "3\n",
        "12\n",
        "(101, 1, 96)\n",
        "3\n",
        "12"
       ]
      },
      {
       "output_type": "stream",
       "stream": "stdout",
       "text": [
        "\n",
        "(48, 1, 96)\n",
        "3\n",
        "12\n",
        "(56, 1, 96)\n",
        "3\n",
        "12\n",
        "(68, 1, 96)\n",
        "3"
       ]
      },
      {
       "output_type": "stream",
       "stream": "stdout",
       "text": [
        "\n",
        "12\n",
        "(56, 1, 96)\n",
        "3\n",
        "12\n",
        "(81, 1, 96)\n",
        "3"
       ]
      },
      {
       "output_type": "stream",
       "stream": "stdout",
       "text": [
        "\n",
        "12\n",
        "(47, 1, 96)\n",
        "3\n",
        "12\n",
        "(75, 1, 96)\n",
        "3"
       ]
      },
      {
       "output_type": "stream",
       "stream": "stdout",
       "text": [
        "\n",
        "12\n",
        "(47, 1, 96)\n",
        "3\n",
        "12\n",
        "(51, 1, 96)\n",
        "3\n",
        "12"
       ]
      },
      {
       "output_type": "stream",
       "stream": "stdout",
       "text": [
        "\n",
        "(112, 1, 96)\n",
        "3\n",
        "12\n",
        "(96, 1, 96)\n",
        "3"
       ]
      },
      {
       "output_type": "stream",
       "stream": "stdout",
       "text": [
        "\n",
        "12\n",
        "(82, 1, 96)\n",
        "3\n",
        "12"
       ]
      },
      {
       "output_type": "stream",
       "stream": "stdout",
       "text": [
        "\n",
        "(32, 1, 96)\n",
        "3\n",
        "12\n",
        "(67, 1, 96)\n",
        "3\n",
        "12\n",
        "(40, 1, 96)\n",
        "3"
       ]
      },
      {
       "output_type": "stream",
       "stream": "stdout",
       "text": [
        "\n",
        "12\n",
        "(48, 1, 96)\n",
        "3\n",
        "12\n",
        "(64, 1, 96)\n",
        "3\n",
        "12"
       ]
      },
      {
       "output_type": "stream",
       "stream": "stdout",
       "text": [
        "\n",
        "(108, 1, 96)\n",
        "3\n",
        "12\n",
        "(107, 1, 96)\n",
        "3"
       ]
      },
      {
       "output_type": "stream",
       "stream": "stdout",
       "text": [
        "\n",
        "12\n",
        "(59, 1, 96)\n",
        "3\n",
        "12\n",
        "(64, 1, 96)\n",
        "3"
       ]
      },
      {
       "output_type": "stream",
       "stream": "stdout",
       "text": [
        "\n",
        "12\n",
        "(56, 1, 96)\n",
        "3\n",
        "12\n",
        "(48, 1, 96)\n",
        "3\n",
        "12"
       ]
      },
      {
       "output_type": "stream",
       "stream": "stdout",
       "text": [
        "\n",
        "(32, 1, 96)\n",
        "3\n",
        "12\n",
        "(56, 1, 96)\n",
        "3\n",
        "12\n",
        "(32, 1, 96)\n",
        "3\n",
        "12"
       ]
      },
      {
       "output_type": "stream",
       "stream": "stdout",
       "text": [
        "\n",
        "(60, 1, 96)\n",
        "3\n",
        "12\n",
        "(112, 1, 96)\n",
        "3"
       ]
      },
      {
       "output_type": "stream",
       "stream": "stdout",
       "text": [
        "\n",
        "12\n",
        "(57, 1, 96)\n",
        "3\n",
        "12\n",
        "(63, 1, 96)\n",
        "3"
       ]
      },
      {
       "output_type": "stream",
       "stream": "stdout",
       "text": [
        "\n",
        "12\n",
        "(64, 1, 96)\n",
        "3\n",
        "12\n",
        "(32, 1, 96)\n",
        "3\n",
        "12"
       ]
      },
      {
       "output_type": "stream",
       "stream": "stdout",
       "text": [
        "\n",
        "(56, 1, 96)\n",
        "3\n",
        "12\n",
        "(48, 1, 96)\n",
        "3\n",
        "12\n",
        "(63, 1, 96)\n",
        "3"
       ]
      },
      {
       "output_type": "stream",
       "stream": "stdout",
       "text": [
        "\n",
        "12\n",
        "(67, 1, 96)\n",
        "3\n",
        "12\n",
        "(59, 1, 96)\n",
        "3"
       ]
      },
      {
       "output_type": "stream",
       "stream": "stdout",
       "text": [
        "\n",
        "12\n",
        "(64, 1, 96)\n",
        "3\n",
        "12\n",
        "(40, 1, 96)\n",
        "3\n",
        "12"
       ]
      },
      {
       "output_type": "stream",
       "stream": "stdout",
       "text": [
        "\n",
        "(71, 1, 96)\n",
        "3\n",
        "12\n",
        "(52, 1, 96)\n",
        "3\n",
        "12"
       ]
      },
      {
       "output_type": "stream",
       "stream": "stdout",
       "text": [
        "\n",
        "(48, 1, 96)\n",
        "3\n",
        "12\n",
        "(56, 1, 96)\n",
        "3\n",
        "12\n",
        "(32, 1, 96)\n",
        "3"
       ]
      },
      {
       "output_type": "stream",
       "stream": "stdout",
       "text": [
        "\n",
        "12\n",
        "(48, 1, 96)\n",
        "3\n",
        "12\n",
        "(88, 1, 96)\n",
        "3"
       ]
      },
      {
       "output_type": "stream",
       "stream": "stdout",
       "text": [
        "\n",
        "12\n",
        "(64, 1, 96)\n",
        "3\n",
        "12\n",
        "(43, 1, 96)\n",
        "3"
       ]
      },
      {
       "output_type": "stream",
       "stream": "stdout",
       "text": [
        "\n",
        "12\n",
        "(48, 1, 96)\n",
        "3\n",
        "12\n",
        "(60, 1, 96)\n",
        "3\n",
        "12"
       ]
      },
      {
       "output_type": "stream",
       "stream": "stdout",
       "text": [
        "\n",
        "(64, 1, 96)\n",
        "3\n",
        "12\n",
        "(68, 1, 96)\n",
        "3\n",
        "12"
       ]
      },
      {
       "output_type": "stream",
       "stream": "stdout",
       "text": [
        "\n",
        "(51, 1, 96)\n",
        "3\n",
        "12\n",
        "(75, 1, 96)\n",
        "3\n",
        "12"
       ]
      },
      {
       "output_type": "stream",
       "stream": "stdout",
       "text": [
        "\n",
        "(32, 1, 96)\n",
        "3\n",
        "12\n",
        "(56, 1, 96)\n",
        "3\n",
        "12\n",
        "(75, 1, 96)\n",
        "3"
       ]
      },
      {
       "output_type": "stream",
       "stream": "stdout",
       "text": [
        "\n",
        "12\n",
        "(56, 1, 96)\n",
        "3\n",
        "12\n",
        "(32, 1, 96)\n",
        "3\n",
        "12"
       ]
      },
      {
       "output_type": "stream",
       "stream": "stdout",
       "text": [
        "\n",
        "(75, 1, 96)\n",
        "3\n",
        "12\n",
        "(100, 1, 96)\n",
        "3"
       ]
      },
      {
       "output_type": "stream",
       "stream": "stdout",
       "text": [
        "\n",
        "12\n",
        "(39, 1, 96)\n",
        "3\n",
        "12\n",
        "(40, 1, 96)\n",
        "3\n",
        "12"
       ]
      },
      {
       "output_type": "stream",
       "stream": "stdout",
       "text": [
        "\n",
        "(43, 1, 96)\n",
        "3\n",
        "12\n",
        "(75, 1, 96)\n",
        "3\n",
        "12"
       ]
      },
      {
       "output_type": "stream",
       "stream": "stdout",
       "text": [
        "\n",
        "(64, 1, 96)\n",
        "3\n",
        "12\n",
        "(48, 1, 96)\n",
        "3\n",
        "12\n",
        "(53, 1, 96)\n",
        "3"
       ]
      },
      {
       "output_type": "stream",
       "stream": "stdout",
       "text": [
        "\n",
        "12\n",
        "(48, 1, 96)\n",
        "3\n",
        "12\n",
        "(48, 1, 96)\n",
        "3\n",
        "12"
       ]
      },
      {
       "output_type": "stream",
       "stream": "stdout",
       "text": [
        "\n",
        "(63, 1, 96)\n",
        "3\n",
        "12\n",
        "(50, 1, 96)\n",
        "3\n",
        "12\n",
        "(108, 1, 96)\n",
        "3"
       ]
      },
      {
       "output_type": "stream",
       "stream": "stdout",
       "text": [
        "\n",
        "12\n",
        "(64, 1, 96)\n",
        "3\n",
        "12\n",
        "(64, 1, 96)\n",
        "3"
       ]
      },
      {
       "output_type": "stream",
       "stream": "stdout",
       "text": [
        "\n",
        "12\n"
       ]
      }
     ],
     "prompt_number": 11
    },
    {
     "cell_type": "code",
     "collapsed": false,
     "input": [],
     "language": "python",
     "metadata": {},
     "outputs": []
    }
   ],
   "metadata": {}
  }
 ]
}