{
 "metadata": {
  "name": "",
  "signature": "sha256:e5b38f35f0928788f382062a74c0e2699c5d88a3dc3c9368fbcb1f47d7118edd"
 },
 "nbformat": 3,
 "nbformat_minor": 0,
 "worksheets": [
  {
   "cells": [
    {
     "cell_type": "code",
     "collapsed": false,
     "input": [
      "import librnn\n",
      "from librnn.pylearn2.datasets.music import MusicSequence"
     ],
     "language": "python",
     "metadata": {},
     "outputs": []
    },
    {
     "cell_type": "code",
     "collapsed": false,
     "input": [
      "dataset = MusicSequence('jsb')"
     ],
     "language": "python",
     "metadata": {},
     "outputs": []
    },
    {
     "cell_type": "code",
     "collapsed": false,
     "input": [
      "for d in dataset.iterator(1, dataset.get_num_examples(), mode='sequential',\n",
      "                 data_specs=dataset.get_data_specs()):\n",
      "    print len(d)\n",
      "    print d[0].shape\n",
      "    print d[1].shape"
     ],
     "language": "python",
     "metadata": {},
     "outputs": []
    },
    {
     "cell_type": "code",
     "collapsed": false,
     "input": [
      "d[0][20,0,:]"
     ],
     "language": "python",
     "metadata": {},
     "outputs": []
    },
    {
     "cell_type": "code",
     "collapsed": false,
     "input": [],
     "language": "python",
     "metadata": {},
     "outputs": []
    }
   ],
   "metadata": {}
  }
 ]
}