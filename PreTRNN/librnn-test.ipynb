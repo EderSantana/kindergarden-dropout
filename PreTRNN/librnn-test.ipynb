{
 "metadata": {
  "name": "",
  "signature": "sha256:f2649c9d0fe1acf228a2eaf521da227880101642d5bf802416f15f500b2f45fc"
 },
 "nbformat": 3,
 "nbformat_minor": 0,
 "worksheets": [
  {
   "cells": [
    {
     "cell_type": "code",
     "collapsed": false,
     "input": [
      "#!export PYTHONPATH=./:$PYTHONPATH\n",
      "import librnn\n",
      "from librnn.pylearn2.datasets.music import MusicSequence"
     ],
     "language": "python",
     "metadata": {},
     "outputs": [],
     "prompt_number": 40
    },
    {
     "cell_type": "code",
     "collapsed": false,
     "input": [
      "dataset = MusicSequence('jsb')\n",
      "testset = MusicSequence('jsb', which_set='test')"
     ],
     "language": "python",
     "metadata": {},
     "outputs": [],
     "prompt_number": 41
    },
    {
     "cell_type": "code",
     "collapsed": false,
     "input": [
      "for d,b in dataset.iterator(1, dataset.get_num_examples(), mode='sequential',\n",
      "                 data_specs=dataset.get_data_specs()):\n",
      "    d\n",
      "    #print len(d)\n",
      "    #print d.shape\n",
      "    #print b.shape"
     ],
     "language": "python",
     "metadata": {},
     "outputs": [],
     "prompt_number": 42
    },
    {
     "cell_type": "code",
     "collapsed": false,
     "input": [
      "from pylearn2.sandbox.rnn.models.rnn import RNN, GRU, Recurrent\n",
      "from pylearn2.models.mlp import Sigmoid, CompositeLayer, Linear, MLP, Tanh, CompositeLayer, FlattenerLayer\n",
      "from pylearn2.space import VectorSpace, CompositeSpace\n",
      "from pylearn2.sandbox.rnn.space import SequenceDataSpace"
     ],
     "language": "python",
     "metadata": {},
     "outputs": [],
     "prompt_number": 4
    },
    {
     "cell_type": "code",
     "collapsed": false,
     "input": [
      "dimZ = 10\n",
      "dimX = 96\n",
      "bsize = 1\n",
      "dimH = 24\n",
      "IH_model = MLP(\n",
      "    batch_size=bsize,\n",
      "    input_space=CompositeSpace(\n",
      "        [VectorSpace(dimX), VectorSpace(dimZ)]\n",
      "        ),\n",
      "    input_source=['x', 'z'],\n",
      "    layers=[\n",
      "    #Tanh(layer_name='IH', dim=400+dimZ, irange=.01),\n",
      "    FlattenerLayer(CompositeLayer(\n",
      "        layer_name='rec',\n",
      "        layers=[\n",
      "            Tanh(layer_name='IHx', dim=dimH/2, irange=.01),\n",
      "            Tanh(layer_name='IHz', dim=dimH/2, irange=.01)\n",
      "        ]\n",
      "        )),\n",
      "    CompositeLayer(layer_name='mz and vz',\n",
      "        layers=[\n",
      "            Linear(layer_name='mz', dim=20, irange=.01),\n",
      "            Linear(layer_name='vz', dim=20, irange=.01)\n",
      "        ]\n",
      "        )\n",
      "    ]\n",
      ")\n",
      "\n",
      "HI_model = MLP(batch_size=bsize, nvis=dimZ, layers=[\n",
      "    Tanh(layer_name='H_decoder', dim=dimH, irange=.01),\n",
      "    Sigmoid(layer_name='x_hat', dim=dimX, irange=.01)\n",
      "])"
     ],
     "language": "python",
     "metadata": {},
     "outputs": [],
     "prompt_number": 5
    },
    {
     "cell_type": "code",
     "collapsed": false,
     "input": [
      "import vpcn_scan; reload(vpcn_scan)\n",
      "from vpcn_scan import VPCN\n",
      "import numpy as np\n",
      "import time\n",
      "import gzip, cPickle\n",
      "from theano import tensor as T\n",
      "import top; reload(top)\n",
      "\n",
      "L = 1\n",
      "learning_rate = .0001\n",
      "\n",
      "encoder = vpcn_scan.VPCN(IH_model, HI_model, T.tensor3('x'), 'rmsprop', learning_rate)\n",
      "encoder.initParams()\n",
      "encoder.createGradientFunctions()\n",
      "\n",
      "print \"Initializing weights and biases\"\n",
      "lowerbound = np.array([])\n",
      "testlowerbound = np.array([])\n",
      "\n",
      "begin = time.time()\n",
      "for j in xrange(50):\n",
      "    encoder.lowerbound = 0\n",
      "    print 'Iteration:', j\n",
      "    encoder.iterate(dataset)\n",
      "    end = time.time()\n",
      "    print(\"Iteration %d, lower bound = %.2f,\"\n",
      "          \" time = %.2fs\"\n",
      "          % (j, encoder.lowerbound*bsize/dataset.get_num_examples(), end - begin))\n",
      "    begin = end\n",
      "\n",
      "    if j % 5 == 0:\n",
      "        #print \"### Calculating test lowerbound \"\n",
      "        testlowerbound = np.append(testlowerbound,encoder.getLowerBound(testset))\n",
      "        print \"### Test lowerbound: %f ###\" % testlowerbound[-1]\n",
      "        print \">>> learning rate: %f\" % encoder.opt.lr.get_value()"
     ],
     "language": "python",
     "metadata": {},
     "outputs": [
      {
       "output_type": "stream",
       "stream": "stdout",
       "text": [
        "Initializing weights and biases\n",
        "Iteration: 0\n",
        "$> Compiling optimizer.\n",
        "Iteration 0, lower bound = 568.13, time = 54.61s"
       ]
      },
      {
       "output_type": "stream",
       "stream": "stdout",
       "text": [
        "\n",
        "### Test lowerbound: 580.448331 ###"
       ]
      },
      {
       "output_type": "stream",
       "stream": "stdout",
       "text": [
        "\n",
        ">>> learning rate: 0.000100\n",
        "Iteration: 1\n",
        "Iteration 1, lower bound = 570.38, time = 28.01s"
       ]
      },
      {
       "output_type": "stream",
       "stream": "stdout",
       "text": [
        "\n",
        "Iteration: 2\n",
        "Iteration 2, lower bound = 568.27, time = 26.76s"
       ]
      },
      {
       "output_type": "stream",
       "stream": "stdout",
       "text": [
        "\n",
        "Iteration: 3\n",
        "Iteration 3, lower bound = 569.34, time = 26.74s"
       ]
      },
      {
       "output_type": "stream",
       "stream": "stdout",
       "text": [
        "\n",
        "Iteration: 4\n",
        "Iteration 4, lower bound = 568.48, time = 26.80s"
       ]
      },
      {
       "output_type": "stream",
       "stream": "stdout",
       "text": [
        "\n",
        "Iteration: 5\n",
        "Iteration 5, lower bound = 568.67, time = 26.73s"
       ]
      },
      {
       "output_type": "stream",
       "stream": "stdout",
       "text": [
        "\n",
        "### Test lowerbound: 580.084088 ###"
       ]
      },
      {
       "output_type": "stream",
       "stream": "stdout",
       "text": [
        "\n",
        ">>> learning rate: 0.000100\n",
        "Iteration: 6\n",
        "Iteration 6, lower bound = 569.07, time = 27.73s"
       ]
      },
      {
       "output_type": "stream",
       "stream": "stdout",
       "text": [
        "\n",
        "Iteration: 7\n",
        "Iteration 7, lower bound = 568.77, time = 26.86s"
       ]
      },
      {
       "output_type": "stream",
       "stream": "stdout",
       "text": [
        "\n",
        "Iteration: 8\n",
        "Iteration 8, lower bound = 568.47, time = 26.86s"
       ]
      },
      {
       "output_type": "stream",
       "stream": "stdout",
       "text": [
        "\n",
        "Iteration: 9\n",
        "Iteration 9, lower bound = 568.43, time = 26.92s"
       ]
      },
      {
       "output_type": "stream",
       "stream": "stdout",
       "text": [
        "\n",
        "Iteration: 10\n",
        "Iteration 10, lower bound = 568.38, time = 26.85s"
       ]
      },
      {
       "output_type": "stream",
       "stream": "stdout",
       "text": [
        "\n",
        "### Test lowerbound: 578.504301 ###"
       ]
      },
      {
       "output_type": "stream",
       "stream": "stdout",
       "text": [
        "\n",
        ">>> learning rate: 0.000100\n",
        "Iteration: 11\n",
        "Iteration 11, lower bound = 568.70, time = 27.79s"
       ]
      },
      {
       "output_type": "stream",
       "stream": "stdout",
       "text": [
        "\n",
        "Iteration: 12\n",
        "Iteration 12, lower bound = 569.66, time = 26.87s"
       ]
      },
      {
       "output_type": "stream",
       "stream": "stdout",
       "text": [
        "\n",
        "Iteration: 13\n",
        "Iteration 13, lower bound = 568.56, time = 26.81s"
       ]
      },
      {
       "output_type": "stream",
       "stream": "stdout",
       "text": [
        "\n",
        "Iteration: 14\n",
        "Iteration 14, lower bound = 568.59, time = 26.68s"
       ]
      },
      {
       "output_type": "stream",
       "stream": "stdout",
       "text": [
        "\n",
        "Iteration: 15\n",
        "Iteration 15, lower bound = 568.26, time = 26.67s"
       ]
      },
      {
       "output_type": "stream",
       "stream": "stdout",
       "text": [
        "\n",
        "### Test lowerbound: 579.365832 ###"
       ]
      },
      {
       "output_type": "stream",
       "stream": "stdout",
       "text": [
        "\n",
        ">>> learning rate: 0.000100\n",
        "Iteration: 16\n",
        "Iteration 16, lower bound = 568.51, time = 27.57s"
       ]
      },
      {
       "output_type": "stream",
       "stream": "stdout",
       "text": [
        "\n",
        "Iteration: 17\n",
        "Iteration 17, lower bound = 568.25, time = 26.62s"
       ]
      },
      {
       "output_type": "stream",
       "stream": "stdout",
       "text": [
        "\n",
        "Iteration: 18\n",
        "Iteration 18, lower bound = 568.16, time = 26.65s"
       ]
      },
      {
       "output_type": "stream",
       "stream": "stdout",
       "text": [
        "\n",
        "Iteration: 19\n",
        "Iteration 19, lower bound = 568.75, time = 26.64s"
       ]
      },
      {
       "output_type": "stream",
       "stream": "stdout",
       "text": [
        "\n",
        "Iteration: 20\n",
        "Iteration 20, lower bound = 568.35, time = 26.64s"
       ]
      },
      {
       "output_type": "stream",
       "stream": "stdout",
       "text": [
        "\n",
        "### Test lowerbound: 579.728060 ###"
       ]
      },
      {
       "output_type": "stream",
       "stream": "stdout",
       "text": [
        "\n",
        ">>> learning rate: 0.000100\n",
        "Iteration: 21\n",
        "Iteration 21, lower bound = 568.69, time = 27.66s"
       ]
      },
      {
       "output_type": "stream",
       "stream": "stdout",
       "text": [
        "\n",
        "Iteration: 22\n",
        "Iteration 22, lower bound = 568.43, time = 26.72s"
       ]
      },
      {
       "output_type": "stream",
       "stream": "stdout",
       "text": [
        "\n",
        "Iteration: 23\n",
        "Iteration 23, lower bound = 569.32, time = 26.75s"
       ]
      },
      {
       "output_type": "stream",
       "stream": "stdout",
       "text": [
        "\n",
        "Iteration: 24\n",
        "Iteration 24, lower bound = 568.67, time = 26.78s"
       ]
      },
      {
       "output_type": "stream",
       "stream": "stdout",
       "text": [
        "\n",
        "Iteration: 25\n",
        "Iteration 25, lower bound = 568.92, time = 26.81s"
       ]
      },
      {
       "output_type": "stream",
       "stream": "stdout",
       "text": [
        "\n",
        "### Test lowerbound: 578.751264 ###"
       ]
      },
      {
       "output_type": "stream",
       "stream": "stdout",
       "text": [
        "\n",
        ">>> learning rate: 0.000100\n",
        "Iteration: 26\n",
        "Iteration 26, lower bound = 568.40, time = 27.70s"
       ]
      },
      {
       "output_type": "stream",
       "stream": "stdout",
       "text": [
        "\n",
        "Iteration: 27\n",
        "Iteration 27, lower bound = 568.93, time = 26.73s"
       ]
      },
      {
       "output_type": "stream",
       "stream": "stdout",
       "text": [
        "\n",
        "Iteration: 28\n",
        "Iteration 28, lower bound = 569.28, time = 26.75s"
       ]
      },
      {
       "output_type": "stream",
       "stream": "stdout",
       "text": [
        "\n",
        "Iteration: 29\n",
        "Iteration 29, lower bound = 569.29, time = 26.76s"
       ]
      },
      {
       "output_type": "stream",
       "stream": "stdout",
       "text": [
        "\n",
        "Iteration: 30\n",
        "Iteration 30, lower bound = 567.99, time = 26.72s"
       ]
      },
      {
       "output_type": "stream",
       "stream": "stdout",
       "text": [
        "\n",
        "### Test lowerbound: 580.887666 ###"
       ]
      },
      {
       "output_type": "stream",
       "stream": "stdout",
       "text": [
        "\n",
        ">>> learning rate: 0.000100\n",
        "Iteration: 31\n",
        "Iteration 31, lower bound = 569.44, time = 27.61s"
       ]
      },
      {
       "output_type": "stream",
       "stream": "stdout",
       "text": [
        "\n",
        "Iteration: 32\n",
        "Iteration 32, lower bound = 567.83, time = 26.76s"
       ]
      },
      {
       "output_type": "stream",
       "stream": "stdout",
       "text": [
        "\n",
        "Iteration: 33\n",
        "Iteration 33, lower bound = 568.98, time = 26.73s"
       ]
      },
      {
       "output_type": "stream",
       "stream": "stdout",
       "text": [
        "\n",
        "Iteration: 34\n",
        "Iteration 34, lower bound = 568.56, time = 26.72s"
       ]
      },
      {
       "output_type": "stream",
       "stream": "stdout",
       "text": [
        "\n",
        "Iteration: 35\n",
        "Iteration 35, lower bound = 567.53, time = 26.72s"
       ]
      },
      {
       "output_type": "stream",
       "stream": "stdout",
       "text": [
        "\n",
        "### Test lowerbound: 580.029139 ###"
       ]
      },
      {
       "output_type": "stream",
       "stream": "stdout",
       "text": [
        "\n",
        ">>> learning rate: 0.000100\n",
        "Iteration: 36\n",
        "Iteration 36, lower bound = 568.90, time = 27.63s"
       ]
      },
      {
       "output_type": "stream",
       "stream": "stdout",
       "text": [
        "\n",
        "Iteration: 37\n",
        "Iteration 37, lower bound = 568.56, time = 26.69s"
       ]
      },
      {
       "output_type": "stream",
       "stream": "stdout",
       "text": [
        "\n",
        "Iteration: 38\n",
        "Iteration 38, lower bound = 569.33, time = 26.67s"
       ]
      },
      {
       "output_type": "stream",
       "stream": "stdout",
       "text": [
        "\n",
        "Iteration: 39\n",
        "Iteration 39, lower bound = 568.12, time = 26.69s"
       ]
      },
      {
       "output_type": "stream",
       "stream": "stdout",
       "text": [
        "\n",
        "Iteration: 40\n",
        "Iteration 40, lower bound = 568.48, time = 26.69s"
       ]
      },
      {
       "output_type": "stream",
       "stream": "stdout",
       "text": [
        "\n",
        "### Test lowerbound: 579.070953 ###"
       ]
      },
      {
       "output_type": "stream",
       "stream": "stdout",
       "text": [
        "\n",
        ">>> learning rate: 0.000100\n",
        "Iteration: 41\n",
        "Iteration 41, lower bound = 568.40, time = 27.64s"
       ]
      },
      {
       "output_type": "stream",
       "stream": "stdout",
       "text": [
        "\n",
        "Iteration: 42\n",
        "Iteration 42, lower bound = 568.97, time = 26.74s"
       ]
      },
      {
       "output_type": "stream",
       "stream": "stdout",
       "text": [
        "\n",
        "Iteration: 43\n",
        "Iteration 43, lower bound = 568.29, time = 26.73s"
       ]
      },
      {
       "output_type": "stream",
       "stream": "stdout",
       "text": [
        "\n",
        "Iteration: 44\n",
        "Iteration 44, lower bound = 568.47, time = 26.94s"
       ]
      },
      {
       "output_type": "stream",
       "stream": "stdout",
       "text": [
        "\n",
        "Iteration: 45\n",
        "Iteration 45, lower bound = 569.51, time = 26.89s"
       ]
      },
      {
       "output_type": "stream",
       "stream": "stdout",
       "text": [
        "\n",
        "### Test lowerbound: 579.536246 ###"
       ]
      },
      {
       "output_type": "stream",
       "stream": "stdout",
       "text": [
        "\n",
        ">>> learning rate: 0.000100\n",
        "Iteration: 46\n",
        "Iteration 46, lower bound = 568.52, time = 27.66s"
       ]
      },
      {
       "output_type": "stream",
       "stream": "stdout",
       "text": [
        "\n",
        "Iteration: 47\n",
        "Iteration 47, lower bound = 568.66, time = 26.70s"
       ]
      },
      {
       "output_type": "stream",
       "stream": "stdout",
       "text": [
        "\n",
        "Iteration: 48\n",
        "Iteration 48, lower bound = 568.33, time = 26.75s"
       ]
      },
      {
       "output_type": "stream",
       "stream": "stdout",
       "text": [
        "\n",
        "Iteration: 49\n",
        "Iteration 49, lower bound = 568.88, time = 26.66s"
       ]
      },
      {
       "output_type": "stream",
       "stream": "stdout",
       "text": [
        "\n"
       ]
      }
     ],
     "prompt_number": 53
    },
    {
     "cell_type": "code",
     "collapsed": false,
     "input": [
      "%matplotlib inline\n",
      "from pylab import imshow, plot\n",
      "imshow(-d[:,0,:].T, cmap='gray')"
     ],
     "language": "python",
     "metadata": {},
     "outputs": [
      {
       "metadata": {},
       "output_type": "pyout",
       "prompt_number": 54,
       "text": [
        "<matplotlib.image.AxesImage at 0x7fed86ca68d0>"
       ]
      },
      {
       "metadata": {},
       "output_type": "display_data",
       "png": "[encoded data removed]",
       "text": [
        "<matplotlib.figure.Figure at 0x7fedc6dfa250>"
       ]
      }
     ],
     "prompt_number": 54
    },
    {
     "cell_type": "code",
     "collapsed": false,
     "input": [
      "import theano\n",
      "def decoder(HI_model):\n",
      "    Z = T.tensor3()\n",
      "    def step(z):\n",
      "        return HI_model.fprop(z)\n",
      "    X,_ = theano.scan(step, sequences=[Z])\n",
      "    return theano.function([Z], X)\n",
      "\n",
      "def encoder(IH_model, dimZ, deterministic=True):\n",
      "    X     = T.tensor3()\n",
      "    bsize = IH_model.batch_size\n",
      "    def step(x, z_t):\n",
      "        m, ls = IH_model.fprop((x, z_t))\n",
      "        ls = 0.5*ls\n",
      "        if deterministic:\n",
      "            z = m\n",
      "        else:\n",
      "            assert 0\n",
      "        return z\n",
      "    zero = np.zeros((bsize, dimZ)).astype('float32')\n",
      "    zero = theano.shared(zero,'0')\n",
      "    Z,_ = theano.scan(step, sequences=[X], outputs_info=[zero])\n",
      "\n",
      "    return theano.function([X], Z)\n",
      "\n",
      "fdecoder = decoder(HI_model)\n",
      "fencoder = encoder(IH_model, 20)"
     ],
     "language": "python",
     "metadata": {},
     "outputs": [],
     "prompt_number": 55
    },
    {
     "cell_type": "code",
     "collapsed": false,
     "input": [
      "X = fdecoder(np.random.normal(0,1,(100,1,20)).astype('float32'))\n",
      "Z = fencoder(d)\n",
      "Xh = fdecoder(Z)"
     ],
     "language": "python",
     "metadata": {},
     "outputs": [],
     "prompt_number": 56
    },
    {
     "cell_type": "code",
     "collapsed": false,
     "input": [
      "_ = plot(Z[:,0,:].T)"
     ],
     "language": "python",
     "metadata": {},
     "outputs": [
      {
       "metadata": {},
       "output_type": "display_data",
       "png": "[encoded data removed]",
       "text": [
        "<matplotlib.figure.Figure at 0x7fed8655c450>"
       ]
      }
     ],
     "prompt_number": 59
    },
    {
     "cell_type": "code",
     "collapsed": false,
     "input": [
      "_ = imshow(-(Xh[:,0,:]>.5).T,cmap='gray')"
     ],
     "language": "python",
     "metadata": {},
     "outputs": [
      {
       "metadata": {},
       "output_type": "display_data",
       "png": "[encoded data removed]",
       "text": [
        "<matplotlib.figure.Figure at 0x7fed86678e10>"
       ]
      }
     ],
     "prompt_number": 64
    },
    {
     "cell_type": "code",
     "collapsed": false,
     "input": [],
     "language": "python",
     "metadata": {},
     "outputs": []
    }
   ],
   "metadata": {}
  }
 ]
}