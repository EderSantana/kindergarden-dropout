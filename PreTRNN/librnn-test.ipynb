{
 "metadata": {
  "name": "",
  "signature": "sha256:904901f0a3ae9c248aa6984bd897b24b6c357543dfae70e7545830cde6fc2305"
 },
 "nbformat": 3,
 "nbformat_minor": 0,
 "worksheets": [
  {
   "cells": [
    {
     "cell_type": "code",
     "collapsed": false,
     "input": [
      "import librnn\n",
      "from librnn.pylearn2.datasets.music import MusicSequence"
     ],
     "language": "python",
     "metadata": {},
     "outputs": [
      {
       "output_type": "stream",
       "stream": "stderr",
       "text": [
        "Using gpu device 0: GeForce GTX 680\n"
       ]
      }
     ],
     "prompt_number": 1
    },
    {
     "cell_type": "code",
     "collapsed": false,
     "input": [
      "dataset = MusicSequence('jsb','train')"
     ],
     "language": "python",
     "metadata": {},
     "outputs": [
      {
       "ename": "AssertionError",
       "evalue": "",
       "output_type": "pyerr",
       "traceback": [
        "\u001b[1;31m---------------------------------------------------------------------------\u001b[0m\n\u001b[1;31mAssertionError\u001b[0m                            Traceback (most recent call last)",
        "\u001b[1;32m<ipython-input-2-4b3b529e2868>\u001b[0m in \u001b[0;36m<module>\u001b[1;34m()\u001b[0m\n\u001b[1;32m----> 1\u001b[1;33m \u001b[0mdataset\u001b[0m \u001b[1;33m=\u001b[0m \u001b[0mMusicSequence\u001b[0m\u001b[1;33m(\u001b[0m\u001b[1;34m'jsb'\u001b[0m\u001b[1;33m,\u001b[0m\u001b[1;34m'train'\u001b[0m\u001b[1;33m)\u001b[0m\u001b[1;33m\u001b[0m\u001b[0m\n\u001b[0m",
        "\u001b[1;32m/home/eder/Copy/python/sandbox/kd/PreTRNN/librnn/pylearn2/datasets/music.pyc\u001b[0m in \u001b[0;36m__init__\u001b[1;34m(self, which_dataset, which_set, stop)\u001b[0m\n\u001b[0;32m     27\u001b[0m         \u001b[0mstandardize\u001b[0m \u001b[0moption\u001b[0m \u001b[0mmoves\u001b[0m \u001b[0mall\u001b[0m \u001b[0mdata\u001b[0m \u001b[0minto\u001b[0m \u001b[0mthe\u001b[0m \u001b[1;33m(\u001b[0m\u001b[1;36m0\u001b[0m\u001b[1;33m,\u001b[0m\u001b[1;36m1\u001b[0m\u001b[1;33m)\u001b[0m \u001b[0minterval\u001b[0m\u001b[1;33m.\u001b[0m\u001b[1;33m\u001b[0m\u001b[0m\n\u001b[0;32m     28\u001b[0m         \"\"\"\n\u001b[1;32m---> 29\u001b[1;33m         \u001b[0mself\u001b[0m\u001b[1;33m.\u001b[0m\u001b[0mload_data\u001b[0m\u001b[1;33m(\u001b[0m\u001b[0mwhich_dataset\u001b[0m\u001b[1;33m,\u001b[0m \u001b[0mwhich_set\u001b[0m\u001b[1;33m)\u001b[0m\u001b[1;33m\u001b[0m\u001b[0m\n\u001b[0m\u001b[0;32m     30\u001b[0m \u001b[1;33m\u001b[0m\u001b[0m\n\u001b[0;32m     31\u001b[0m         \u001b[1;32mif\u001b[0m \u001b[0mwhich_dataset\u001b[0m \u001b[1;33m==\u001b[0m \u001b[1;34m'midi'\u001b[0m\u001b[1;33m:\u001b[0m\u001b[1;33m\u001b[0m\u001b[0m\n",
        "\u001b[1;32m/home/eder/Copy/python/sandbox/kd/PreTRNN/librnn/pylearn2/datasets/music.pyc\u001b[0m in \u001b[0;36mload_data\u001b[1;34m(self, which_dataset, which_set)\u001b[0m\n\u001b[0;32m     74\u001b[0m                              \"Valid values are ['midi', 'nottingham', 'muse', 'jsb'].\")\n\u001b[0;32m     75\u001b[0m \u001b[1;33m\u001b[0m\u001b[0m\n\u001b[1;32m---> 76\u001b[1;33m         \u001b[1;32massert\u001b[0m \u001b[1;36m0\u001b[0m\u001b[1;33m\u001b[0m\u001b[0m\n\u001b[0m\u001b[0;32m     77\u001b[0m         \u001b[0m_data_path\u001b[0m \u001b[1;33m=\u001b[0m \u001b[1;34m'${YOUR_DATAPATH}'\u001b[0m\u001b[1;33m\u001b[0m\u001b[0m\n\u001b[0;32m     78\u001b[0m         \u001b[1;32mif\u001b[0m \u001b[0mwhich_dataset\u001b[0m \u001b[1;33m==\u001b[0m \u001b[1;34m'midi'\u001b[0m\u001b[1;33m:\u001b[0m\u001b[1;33m\u001b[0m\u001b[0m\n",
        "\u001b[1;31mAssertionError\u001b[0m: "
       ]
      }
     ],
     "prompt_number": 2
    },
    {
     "cell_type": "code",
     "collapsed": false,
     "input": [],
     "language": "python",
     "metadata": {},
     "outputs": []
    }
   ],
   "metadata": {}
  }
 ]
}